{
  "cells": [
    {
      "cell_type": "code",
      "execution_count": null,
      "id": "d3c4c691-9f4b-4975-9e03-c8a42c90df33",
      "metadata": {},
      "outputs": [],
      "source": [
        "# https://www.kaggle.com/datasets/bcruise/reddit-rfloridaman"
      ]
    },
    {
      "cell_type": "code",
      "execution_count": null,
      "id": "d67bc8b9",
      "metadata": {},
      "outputs": [],
      "source": [
        "import typing as t\n",
        "\n",
        "from transformer.models import CausalLM\n",
        "from transformer.dataloaders import CausalDataModule\n",
        "from transformer.params import TransformerParams, TemperatureSamplingParams\n",
        "from transformer.decoding import TemperatureSamplingDecoder\n",
        "\n",
        "import pandas as pd\n",
        "from lightning import Trainer\n",
        "from lightning.pytorch.callbacks.early_stopping import EarlyStopping\n",
        "from transformers import LlamaTokenizer"
      ]
    },
    {
      "cell_type": "code",
      "execution_count": null,
      "id": "6d506536",
      "metadata": {},
      "outputs": [],
      "source": [
        "# load and preview data\n",
        "titles = pd.read_csv(\"data/florida_man.csv\").title\n",
        "titles.tail()"
      ]
    },
    {
      "cell_type": "code",
      "execution_count": null,
      "id": "df59e6d0",
      "metadata": {},
      "outputs": [],
      "source": [
        "# create data module\n",
        "class FloridaManDataModule(CausalDataModule):\n",
        "    def setup(self: t.Self, stage: str) -> None:\n",
        "        # read titles with 200 or fewer characters from CSV\n",
        "        self.data = titles.loc[titles.str.contains(\"florida\", case=False) & (titles.str.len() <= 200)].to_list()\n",
        "        super().setup(stage=stage)"
      ]
    },
    {
      "cell_type": "code",
      "execution_count": null,
      "id": "e8e12da4",
      "metadata": {},
      "outputs": [],
      "source": [
        "# initialize pretrained tokenizer for causal language modelling\n",
        "# - llama does not add an EOS token by default, so override this\n",
        "# - llama also does not use a padding token, so this needs to be added\n",
        "tokenizer = LlamaTokenizer.from_pretrained(\n",
        "    \"huggyllama/llama-7b\", add_eos_token=True, legacy=False\n",
        ")\n",
        "tokenizer.add_special_tokens({\"pad_token\": \"<pad>\"})"
      ]
    },
    {
      "cell_type": "code",
      "execution_count": null,
      "id": "d3d3f031",
      "metadata": {},
      "outputs": [],
      "source": [
        "# initialize the transformer\n",
        "context_length = 64\n",
        "model = CausalLM(\n",
        "    params=TransformerParams(context_length=context_length),\n",
        "    tokenizer=tokenizer,\n",
        ")"
      ]
    },
    {
      "cell_type": "code",
      "execution_count": null,
      "id": "89332135",
      "metadata": {},
      "outputs": [],
      "source": [
        "# tokenize & encode data and prepare train/test splits\n",
        "datamodule = FloridaManDataModule(\n",
        "    tokenizer=tokenizer,\n",
        "    context_length=context_length,\n",
        "    batch_size=32,\n",
        "    val_size=0.2,\n",
        "    test_size=0.1,\n",
        "    num_workers=9,\n",
        "    persistent_workers=True,\n",
        "    limit=None,\n",
        "    random_state=1,\n",
        ")"
      ]
    },
    {
      "cell_type": "code",
      "execution_count": null,
      "id": "8afacabf",
      "metadata": {},
      "outputs": [],
      "source": [
        "#%load_ext tensorboard\n",
        "#%tensorboard --logdir lightning_logs/"
      ]
    },
    {
      "cell_type": "code",
      "execution_count": null,
      "id": "cc96abad",
      "metadata": {},
      "outputs": [],
      "source": [
        "%%time\n",
        "# train the model\n",
        "trainer = Trainer(\n",
        "    max_epochs=100,\n",
        "    callbacks=EarlyStopping(monitor=\"val_loss\", mode=\"min\", patience=5),\n",
        "    accelerator=\"gpu\",\n",
        ")\n",
        "trainer.fit(model=model, datamodule=datamodule)"
      ]
    },
    {
      "cell_type": "code",
      "execution_count": null,
      "id": "f95a8f68",
      "metadata": {},
      "outputs": [],
      "source": [
        "# calculate test metrics\n",
        "trainer.test(model=model, datamodule=datamodule)"
      ]
    },
    {
      "cell_type": "code",
      "execution_count": null,
      "id": "45a4dca8",
      "metadata": {},
      "outputs": [],
      "source": [
        "# view first batch of test set predictions\n",
        "# note: these are still produced using teacher-forcing, so not purely generated\n",
        "pred = trainer.predict(model=model, datamodule=datamodule)"
      ]
    },
    {
      "cell_type": "code",
      "execution_count": null,
      "id": "0459cec2",
      "metadata": {},
      "outputs": [],
      "source": [
        "pred[:5]"
      ]
    },
    {
      "cell_type": "code",
      "execution_count": null,
      "id": "a6b0d124",
      "metadata": {},
      "outputs": [],
      "source": [
        "# initialize decoder\n",
        "decoder = TemperatureSamplingDecoder(\n",
        "    params=TemperatureSamplingParams(max_length=200, temperature=0.25, k=5),\n",
        "    model=model,\n",
        ")"
      ]
    },
    {
      "cell_type": "code",
      "execution_count": null,
      "id": "05550d90",
      "metadata": {},
      "outputs": [],
      "source": [
        "decoder.generate()"
      ]
    },
    {
      "cell_type": "code",
      "execution_count": null,
      "id": "ef8c6d32",
      "metadata": {},
      "outputs": [],
      "source": [
        "decoder.generate(\"Florida man\")"
      ]
    }
  ],
  "metadata": {
    "kernelspec": {
      "display_name": "Python 3 (ipykernel)",
      "language": "python",
      "name": "python3"
    },
    "language_info": {
      "codemirror_mode": {
        "name": "ipython",
        "version": 3
      },
      "file_extension": ".py",
      "mimetype": "text/x-python",
      "name": "python",
      "nbconvert_exporter": "python",
      "pygments_lexer": "ipython3",
      "version": "3.11.8"
    }
  },
  "nbformat": 4,
  "nbformat_minor": 5
}
