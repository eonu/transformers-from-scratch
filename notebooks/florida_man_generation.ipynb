{
  "cells": [
    {
      "cell_type": "code",
      "execution_count": null,
      "id": "d3c4c691-9f4b-4975-9e03-c8a42c90df33",
      "metadata": {},
      "outputs": [],
      "source": [
        "# https://www.kaggle.com/datasets/bcruise/reddit-rfloridaman"
      ]
    },
    {
      "cell_type": "code",
      "execution_count": 1,
      "id": "d67bc8b9",
      "metadata": {},
      "outputs": [
        {
          "name": "stderr",
          "output_type": "stream",
          "text": [
            "/Users/edwinonuonga/env/llm-arm64/lib/python3.11/site-packages/tqdm/auto.py:21: TqdmWarning: IProgress not found. Please update jupyter and ipywidgets. See https://ipywidgets.readthedocs.io/en/stable/user_install.html\n",
            "  from .autonotebook import tqdm as notebook_tqdm\n",
            "/Users/edwinonuonga/env/llm-arm64/lib/python3.11/site-packages/pydantic/_internal/_generate_schema.py:404: UserWarning: typing.Self is not a Python type (it may be an instance of an object), Pydantic will allow any object with no validation since we cannot even enforce that the input is an instance of the given type. To get rid of this error wrap the type with `pydantic.SkipValidation`.\n",
            "  warn(\n"
          ]
        }
      ],
      "source": [
        "import typing as t\n",
        "\n",
        "from transformer.models import CausalLM\n",
        "from transformer.dataloaders import CausalDataModule\n",
        "from transformer.params import TransformerParams, TemperatureSamplingParams\n",
        "from transformer.decoding import TemperatureSamplingDecoder\n",
        "\n",
        "import pandas as pd\n",
        "from lightning import Trainer\n",
        "from lightning.pytorch.callbacks.early_stopping import EarlyStopping\n",
        "from transformers import LlamaTokenizer"
      ]
    },
    {
      "cell_type": "code",
      "execution_count": 2,
      "id": "6d506536",
      "metadata": {},
      "outputs": [
        {
          "data": {
            "text/plain": [
              "42768    Florida woman assaults boyfriend after he refu...\n",
              "42769    Florida Woman Arrested After Dispute Over Moth...\n",
              "42770    Law firm demands Florida man remove racist ‘co...\n",
              "42771    Florida Man arrested for assaulting wife with ...\n",
              "42772    Half of the articles linked in /r/FloridaMan d...\n",
              "Name: title, dtype: object"
            ]
          },
          "execution_count": 2,
          "metadata": {},
          "output_type": "execute_result"
        }
      ],
      "source": [
        "# load and preview data\n",
        "titles = pd.read_csv(\"data/florida_man.csv\").title\n",
        "titles.tail()"
      ]
    },
    {
      "cell_type": "code",
      "execution_count": 3,
      "id": "df59e6d0",
      "metadata": {},
      "outputs": [],
      "source": [
        "# create data module\n",
        "class FloridaManDataModule(CausalDataModule):\n",
        "    def setup(self: t.Self, stage: str) -> None:\n",
        "        # select titles containing the word florida, with 200 or fewer characters\n",
        "        self.data = titles.loc[\n",
        "            titles.str.contains(\"florida\", case=False) & \n",
        "            (titles.str.len() <= 200)\n",
        "        ].to_list()\n",
        "        super().setup(stage=stage)"
      ]
    },
    {
      "cell_type": "code",
      "execution_count": 4,
      "id": "e8e12da4",
      "metadata": {},
      "outputs": [
        {
          "data": {
            "text/plain": [
              "1"
            ]
          },
          "execution_count": 4,
          "metadata": {},
          "output_type": "execute_result"
        }
      ],
      "source": [
        "# initialize pretrained tokenizer for causal language modelling\n",
        "# - llama does not add an EOS token by default, so override this\n",
        "# - llama also does not use a padding token, so this needs to be added\n",
        "tokenizer = LlamaTokenizer.from_pretrained(\n",
        "    \"huggyllama/llama-7b\", add_eos_token=True, legacy=False\n",
        ")\n",
        "tokenizer.add_special_tokens({\"pad_token\": \"<pad>\"})"
      ]
    },
    {
      "cell_type": "code",
      "execution_count": 5,
      "id": "d3d3f031",
      "metadata": {},
      "outputs": [],
      "source": [
        "# initialize the transformer\n",
        "context_length = 64\n",
        "model = CausalLM(\n",
        "    params=TransformerParams(context_length=context_length),\n",
        "    tokenizer=tokenizer,\n",
        ")"
      ]
    },
    {
      "cell_type": "code",
      "execution_count": 6,
      "id": "89332135",
      "metadata": {},
      "outputs": [],
      "source": [
        "# tokenize & encode data and prepare train/test splits\n",
        "datamodule = FloridaManDataModule(\n",
        "    tokenizer=tokenizer,\n",
        "    context_length=context_length,\n",
        "    batch_size=32,\n",
        "    val_size=0.2,\n",
        "    test_size=0.1,\n",
        "    num_workers=9,\n",
        "    persistent_workers=True,\n",
        "    limit=None,\n",
        "    random_state=1,\n",
        ")"
      ]
    },
    {
      "cell_type": "code",
      "execution_count": null,
      "id": "8afacabf",
      "metadata": {},
      "outputs": [],
      "source": [
        "#%load_ext tensorboard\n",
        "#%tensorboard --logdir lightning_logs/"
      ]
    },
    {
      "cell_type": "code",
      "execution_count": 91,
      "id": "cc96abad",
      "metadata": {},
      "outputs": [
        {
          "name": "stderr",
          "output_type": "stream",
          "text": [
            "GPU available: True (mps), used: True\n",
            "TPU available: False, using: 0 TPU cores\n",
            "HPU available: False, using: 0 HPUs\n",
            "\n",
            "  | Name  | Type       | Params | Mode\n",
            "--------------------------------------------\n",
            "0 | model | ModuleDict | 35.3 M | eval\n",
            "--------------------------------------------\n",
            "35.3 M    Trainable params\n",
            "0         Non-trainable params\n",
            "35.3 M    Total params\n",
            "141.158   Total estimated model params size (MB)\n"
          ]
        },
        {
          "name": "stdout",
          "output_type": "stream",
          "text": [
            "Epoch 107: 100%|██████████| 861/861 [03:17<00:00,  4.37it/s, v_num=0, val_loss=6.820, train_loss=6.290]\n",
            "CPU times: user 5h 31min 29s, sys: 11h 37min 13s, total: 17h 8min 42s\n",
            "Wall time: 5h 57min 39s\n"
          ]
        }
      ],
      "source": [
        "%%time\n",
        "# train the model\n",
        "trainer = Trainer(\n",
        "    max_epochs=500,\n",
        "    callbacks=EarlyStopping(monitor=\"val_loss\", mode=\"min\", patience=5),\n",
        "    accelerator=\"gpu\",\n",
        "    default_root_dir=\"models/florida_man_generation\",\n",
        ")\n",
        "trainer.fit(model=model, datamodule=datamodule)"
      ]
    },
    {
      "cell_type": "code",
      "execution_count": 24,
      "id": "f95a8f68",
      "metadata": {},
      "outputs": [
        {
          "name": "stdout",
          "output_type": "stream",
          "text": [
            "Testing DataLoader 0: 100%|██████████| 123/123 [00:10<00:00, 11.38it/s]\n",
            "────────────────────────────────────────────────────────────────────────────────────────────────────────────────────────\n",
            "       Test metric             DataLoader 0\n",
            "────────────────────────────────────────────────────────────────────────────────────────────────────────────────────────\n",
            "        test_loss           7.4453864097595215\n",
            "────────────────────────────────────────────────────────────────────────────────────────────────────────────────────────\n"
          ]
        },
        {
          "data": {
            "text/plain": [
              "[{'test_loss': 7.4453864097595215}]"
            ]
          },
          "execution_count": 24,
          "metadata": {},
          "output_type": "execute_result"
        }
      ],
      "source": [
        "# calculate test metrics\n",
        "trainer.test(model=model, datamodule=datamodule)"
      ]
    },
    {
      "cell_type": "code",
      "execution_count": 92,
      "id": "45a4dca8",
      "metadata": {},
      "outputs": [
        {
          "name": "stdout",
          "output_type": "stream",
          "text": [
            "Predicting DataLoader 0: 100%|██████████| 123/123 [00:14<00:00,  8.73it/s]\n"
          ]
        }
      ],
      "source": [
        "# view first batch of test set predictions\n",
        "# note: these are still produced using teacher-forcing, so not purely generated\n",
        "pred = trainer.predict(model=model, datamodule=datamodule)"
      ]
    },
    {
      "cell_type": "code",
      "execution_count": 95,
      "id": "0459cec2",
      "metadata": {},
      "outputs": [
        {
          "data": {
            "text/plain": [
              "[[('Florida Woman Womans c of the of the her and police drives her her from the c her',\n",
              "   'Florida Woman pulls out in front of motorcycle, drives off leaving couple on the street'),\n",
              "  ('   Florida Man ste  UI  881 8 oting',\n",
              "   'Authorities: Florida Man Recently Died From 1958 Shooting'),\n",
              "  ('Florida man with with c with c ch on ch ch on c on on',\n",
              "   'Florida man cuts neighbor with chainsaw during argument over shrubs'),\n",
              "  ('Florida unk Florida3--year-year Florida Woman at with UI at',\n",
              "   'Very drunk 83-year-old Florida Woman charged with DUI'),\n",
              "  ('Florida Man arrested to to ste1 to to to  to to sex to to J toUI',\n",
              "   'Florida Man Sentenced to 10 Days in Jail for Missing Jury Duty'),\n",
              "  ('Florida Man arrested hised for arrested andineinet for sex..',\n",
              "   \"Florida Man with last name 'Cocaine' arrested for drug possession\"),\n",
              "  ('Florida man arrested afterlydouble afterending beer man after aftert late a night to c holiday',\n",
              "   \"Florida man reportedly 'pretending to be a firework' late at night ahead of holiday weekend\"),\n",
              "  ('Florida Man and to to1 to 60 to c to to and to to kill to to kill to to to to bath',\n",
              "   'Florida Man buys $0.69 worth of gasoline and uses it to set fire to a McDonalds bathroom'),\n",
              "  ('Flor Exyear foridamanaman the for the the others of the the for thealingalingoca for for for for the theeth.',\n",
              "   'Ex-cop Floridaman finds himself on the otherside of the law for stealing cows... twice... and for meth.'),\n",
              "  ('Florida in Florida man gets his after c Ohio c',\n",
              "   'Found a Florida man in my local Ohio news'),\n",
              "  ('Florida Man and running sex and to Le threat to his assass and p and.',\n",
              "   'Florida Man running for state legislature threatens to assassinate his opponent'),\n",
              "  ('Florida man ste on pictureies on on on on on on on他..',\n",
              "   'Florida man puts picture of dead wife on Facebook; claims self-defense.'),\n",
              "  ('Florida Florida Woman ands and the and Woman Woman andolen and and be and why he he the and and the and and and',\n",
              "   'Officer Florida Man pulls over Black Florida Woman and stumbles to explain why after he finds out she is the State Attorney'),\n",
              "  ('Florida Woman afters after after after after after p after part',\n",
              "   'Florida women pulls a knife after a loud fart'),\n",
              "  ('Florida Woman arrested    in  play- 6-year-year Florida Woman at in at at c at',\n",
              "   'Florida Man leaves used condom in playground, 5-year-old Florida Boy found chewing on it.'),\n",
              "  ('Florida Woman arrested ino in sex inort in in Section in in in sex',\n",
              "   'Florida woman tortoise-torture suspect incompetent for trial'),\n",
              "  ('Florida man and 91 to to ste and to and and c and and c to',\n",
              "   'Florida man calls 911 to request information and assistance on Playstation network outage'),\n",
              "  ('Florida man ste to ste strip after c c c p c c say',\n",
              "   'Florida Man goes to strip club after killing a man: cops'),\n",
              "  ('Florida Man,,, by, andunk, police ste,,,,,,ets,,.',\n",
              "   'Florida Man arrives by cab, drunk, to rob Tallahassee bank. Gets tased'),\n",
              "  ('Florida woman arrested  birth  6 and from  and p and.',\n",
              "   'Florida woman gives birth to a 13.5 pound baby'),\n",
              "  ('Florida Florida Florida Man.', 'Today in Florida Man.'),\n",
              "  ('Florida Man steries to To Shoot Buck, Off Friends,y And It Doesnst and',\n",
              "   'Florida Man Tries To Shoot Bucket Off Friend’s Head And It Doesn’t End Well…'),\n",
              "  ('Florida man gets c c on', 'Florida man, attacks again'),\n",
              "  ('Florida woman woman into car into on cail on c from',\n",
              "   'Florida woman crashes car into tree, jumps into canal'),\n",
              "  ('Florida woman steededezedfriend withs c genalsalseded onustedled',\n",
              "   'Florida woman squeezed boyfriend’s genitals ‘until they bled’'),\n",
              "  ('Florida What p Florida and Woman and and, and and and and and. c.',\n",
              "   'What pets do Florida Man and Woman have? Well, gators of course.'),\n",
              "  ('Florida man arrested after edlyedly after  after, after friend 6, and after old after being of c for after Florida..',\n",
              "   'Florida man wanted for allegedly pouring boiling water on boy, 3, one year after being accused of putting girl in oven'),\n",
              "  ('Florida Man and Le on while deliver to and.',\n",
              "   'Florida Man fires gun while delivering newspapers'),\n",
              "  ('Florida Ir Florida WomanW to s afterves the of c from on from from',\n",
              "   'Irate FloridaWoman swerves in front of school bus so daughter can board'),\n",
              "  ('Florida Man steeder after ste on a on a cac',\n",
              "   'Florida Man Moderated a Facebook Group Full of Racists'),\n",
              "  ('Florida man ste toksries    to to to toalsals to to ste to on sex1 to to',\n",
              "   'Florida man parks Tesla on strangers Lawn steals electricity to charge car for 12 hours'),\n",
              "  ('Florida Man dioceseesed a1,, the dam and and he,,,, compla, against Man, (lorida Man,), who a, and, the get.use..',\n",
              "   'Florida diocese sued for $5M in damages, because they ignored a prior complaint against Florida Man (Florida Minister), who of course, went on to abuse another child.')],\n",
              " [('Florida Woman arrested inunk in a75oldmonthold, the to to andidsicked tro in on to be in her while the prob in aolening in on in theing olen in be at at',\n",
              "   'Florida Woman drove drunk with 5-month-old in back seat, kicked troopers trying to arrest her while on probation for stabbing guy in neck over stolen beer at party'),\n",
              "  ('Floridamanamanies at car his..', 'Floridaman takes away his own guns.'),\n",
              "  ('Florida man ste to to ste to man to a man to chatallyallyots at to c',\n",
              "   'Florida man showing how to clean a gun during a video chat accidentally shoots self, dies'),\n",
              "  ('Florida Man ste     330',\n",
              "   'Florida Man Returns Stolen Sign After 30 Years'),\n",
              "  ('Florida Florida Man and police your to sex andaking into Iowa.',\n",
              "   'Hey Florida Man, your news is leaking into Iowa. Thanks'),\n",
              "  ('Florida Man steedgu and andillsills Giantto anded Liz',\n",
              "   'Florida Man Iguana Hunter Kills Giant Invasive Lizards'),\n",
              "  ('Florida Woman on on the afterold on afterved on c party onames actions on on on bad batch cocaineine c on',\n",
              "   'FloridaMan involved in officer-involved shooting at party blames actions on ‘a bad batch of cocaine,’ arrest records show'),\n",
              "  ('Florida man arrestedots after arrested the c after sex Lej afteringlyt c c him police say',\n",
              "   'Florida man shoots woman in the head for ‘jokingly’ slapping him, police say'),\n",
              "  (' Man     3    3 3 from',\n",
              "   'Florida Man Basketball player, scores 30 points in 4 ½ minutes'),\n",
              "  ('Florida Woman Woman on on Her on on on on on on on on on on; on on on on',\n",
              "   'Florida Woman Loses Her Mind on Car That Stops on Crosswalk &amp; Blocks Her'),\n",
              "  ('Florida man arrested compla to kill to to to to to to',\n",
              "   \"Florida man complains to mayor about 'cat explosion'\"),\n",
              "  ('Florida man arrestedamp;; arrested after ste at Lelare at at after at that were at legal',\n",
              "   'Florida man &amp; woman arrested for shooting flare gun at two people that were serving legal papers'),\n",
              "  ('Florida man to st to to to to to to to to to to c to to',\n",
              "   'Florida man stabbed co-worker to death because she refused to date him'),\n",
              "  ('Florida man ste after on a on police on retired from sex c on from c c from',\n",
              "   'Florida man sets car on fire, asks retired cop for a ride away from the scene'),\n",
              "  ('Florida Man arrested for sex to his drop his to his c to to and',\n",
              "   'Florida Man arrested for trying to drop his principal in the RKO'),\n",
              "  ('Florida man steededededededed ceded',\n",
              "   'Florida man killed over broccoli being sold as weed'),\n",
              "  ('Florida Bed Florida Florida Florida Woman after after B after after after.......',\n",
              "   'Bikini Clad Florida woman offered BJ after accident. Her last name checks out.'),\n",
              "  ('Florida man and the to in the in the to, in  in in in in pur in and the in in in the and in. the.er.',\n",
              "   'Florida man was just standing in line at Publix. His wife dropped her purse and the gun inside went off, hitting him in the shin.'),\n",
              "  ('Florida Man ste onches on on on on on on on6 and on',\n",
              "   'Florida Man Botches Home Castration on Willing 2nd Party'),\n",
              "  ('Florida man p yet cats c', 'Florida man yet to be found'),\n",
              "  ('Florida Man on a on oner on on a on on on on',\n",
              "   'Florida Man is back on shelves for a limited time!'),\n",
              "  ('Florida Man stebsbs someone c plain and c police and',\n",
              "   'Florida Man robs someone in plain sight of police officer'),\n",
              "  ('Florida Man,   , old ruck,    Wrecks 15,, On, 14 O  Being oved  T',\n",
              "   'Florida Man Loses Control Of Semi-Truck Hauling Sharks And Wrecks, 1 Shark Dead On Scene, 4 Others Being Moved From Tanks'),\n",
              "  ('Florida man ste to on into on c on when on clos on on on',\n",
              "   'Florida man tries breaking into house, dies when window closes on him'),\n",
              "  ('Florida Florida History Florida Florida Florida Man and',\n",
              "   'The History and Background of Florida Man'),\n",
              "  ('Florida man arrested after  sex mart  in bath   66year-old in',\n",
              "   'Florida man arrested after sex in Walgreens bathroom scared 6-year-old girl'),\n",
              "  ('Florida man arresteds cL D from plateusted',\n",
              "   \"Florida man's FARTD license plate banned\"),\n",
              "  ('Florida man gets c c after c basketball n c his his c c',\n",
              "   'Florida man tells cops playing basketball naked enhances his skills'),\n",
              "  ('Florida man arrested to to ste60 to to he to to to c p to to kill to hersexole to',\n",
              "   'Florida man sentenced to 20 years after bringing condoms, pink dress to child-sex sting'),\n",
              "  ('Florida man arrested after afteredly and p and and and andDonald ands c',\n",
              "   \"Florida man arrested after allegedly punching and breaking McDonald's sign\"),\n",
              "  ('Florida Man and  several111 and  his a he and his  dispatcher his bed and a his and and',\n",
              "   'Florida Man made several 911 calls in which he hit on a dispatcher and bragged about his big muscles'),\n",
              "  ('Florida Woman coupleEnvironment on.', 'Florida couple seperated.')],\n",
              " [('Florida man and hang and and his car and and and his man and and and and and.',\n",
              "   'Florida man hangs self; his body is mistaken for a mannequin and thrown away.'),\n",
              "  ('Florida Woman the c in in the c in the in in police in in in say',\n",
              "   'Florida is the worst state in the nation in every way, new rankings say'),\n",
              "  ('Florida Man ste to to ste to to to to to Ch to to',\n",
              "   'Florida Man Wants to Turn Sharks into Storm Chasers'),\n",
              "  ('Florida260, Florida Florida Man,,  ills 2,,,r old,,g,,  ',\n",
              "   '62 yr old Florida Man kidnaps, kills 25 yr old ex-girlfriend, now on the run'),\n",
              "  ('Florida1000% Woman ig   and 1 and� and. at...',\n",
              "   '100% Florida, all day everyday. 🇺🇸'),\n",
              "  ('Florida woman ste steiesetheth with b after c mies m',\n",
              "   'Florida woman Crystal Methvin busted with crystal meth'),\n",
              "  ('Florida woman woman arrested... Le...lorida woman',\n",
              "   'Florida woman is...well...Florida woman'),\n",
              "  ('Florida Woman and Woman. and and... and....',\n",
              "   \"Florida being Florida. Don't mix weather and bounce houses.\"),\n",
              "  ('Florida man gets getsiesies steies to c he he to.',\n",
              "   'Florida man gets deputies to pull him over so he can propose.'),\n",
              "  ('Florida Man and onks, Man, and and body and and and and and, and on',\n",
              "   'Florida Man talks about Florida women, dead body, and an algae-assisted arrest'),\n",
              "  ('Florida man arrested travel to ste and to his toagefriend sex with police is confronted c her parents. and c',\n",
              "   'Florida man travels to meet up with underage girl for sex, is confronted by her parents instead—police'),\n",
              "  ('Florida Woman arrested Con tots be to Then to to andoyearN to to to to sex Dis toing to',\n",
              "   'Florida Man Converts to Islam Then Shoots Neo-Nazi Roommates for Disrespecting Islam'),\n",
              "  ('Florida Man ste with his neighbors cMemberctor',\n",
              "   \"Florida Man charged in neighbor's tractor attack\"),\n",
              "  ('Florida Man ste on Zederman on again',\n",
              "   'Florida Man George Zimmerman arrested again'),\n",
              "  ('Florida woman c a c c from c', 'Florida woman in a smelly situation'),\n",
              "  ('FloridaL Florida Florida Florida Florida Man ste After with with Him c Expl',\n",
              "   'FBI Arrests Florida Man After Supplying Him with Explosives'),\n",
              "  ('Florida man arrested for sexUI after he foraking for drive arrestedth for sexiesaco',\n",
              "   'Florida man arrested for DUI after mistaking bank drive-thru for Taco Bell'),\n",
              "  ('Florida Man ste B after For Glass E onies.',\n",
              "   'Florida Man Busted For Glass Eye Toss'),\n",
              "  ('Florida woman arrested onames on sexUIUI',\n",
              "   'Florida woman blames dog for DUI'),\n",
              "  ('Florida man and to  to  and   and    asts  1904eth.  and andt. realize... the..',\n",
              "   \"Florida man tries to race another driver, revs his engine and blasts off at 124 mph. He didn't realize the other driver was a cop.\"),\n",
              "  ('Florida the atidaamanaman', 'the first floridaman'),\n",
              "  ('Florida Man,,,, and and,,,,, Florida, and,,, the Man. and..',\n",
              "   'Florida Man bites dog, and then the story gets weird. Well, not that weird for Florida Man, perhaps.'),\n",
              "  ('Florida man steots aftered afterethro after his neighbors following at hiskingking',\n",
              "   'Florida man shoots flamethrower at neighbors following dispute about parking'),\n",
              "  ('Florida Man anded his fatalally and anded hised and his and and and and and and car w...',\n",
              "   'Florida Man involved in fatal accident, posts photo on social media of himself standing and smiling my his wrecked car.'),\n",
              "  ('Florida man arrested theing the game the the the the the the ater the st the',\n",
              "   'Florida man plays drinking game in which the rules involve the loser getting stabbed'),\n",
              "  ('Florida man arrested to ste sex to sex to',\n",
              "   'Florida man seems to have voted for Donald Trump'),\n",
              "  ('Florida woman c', 'Florida woman'),\n",
              "  ('Florida Man and and onatorator ony afters c drove th..',\n",
              "   \"Florida Man tosses gator through Wendy's drove thru window.\"),\n",
              "  ('Florida man arrested after a in after he was and  in bought in b after a and a Section andFC drive her.',\n",
              "   'Florida man arrested on pot charge after he and the driver bought four bags of food in a KFC drive-through.'),\n",
              "  ('Florida Man ste in to to) Florida to Florida Man and ste resign Florida to',\n",
              "   'Florida Man(the governor) inspires other Florida Man to resign in protest'),\n",
              "  ('Florida man and arrested after sex and and into into and and and and and c and and and',\n",
              "   'Florida man gets fired for battery, breaks into workplace and sends documentation to former employer'),\n",
              "  ('Florida man steillsills l after from catorlock handgun',\n",
              "   'Florida man kills lionfish with Glock handgun')],\n",
              " [('Florida woman stealsals580 ste c Girlals from',\n",
              "   'Florida woman steals $85k from Girl Scouts'),\n",
              "  ('Florida Man ste he he, with Christ police to beer with, with and c',\n",
              "   'Florida Man says he is Jesus Christ, tries to shatter gas station door with brick'),\n",
              "  ('Florida foredlar Man and Tax and B for sex oneded.',\n",
              "   'White Collar Florida Man Tax Man Busted for Sex Trafficking'),\n",
              "  ('Florida Man ste Claed Homem in Bomb  Are For “lor in” ( inven c One Withakedails the',\n",
              "   'Florida Man Claims Homemade Bombs Are For “Fishing” (Even the One With Nails in It)'),\n",
              "  ('Florida \" Florida Florida Florida Florida Florida Florida Florida Florida Man and urges was a he p and a run a a Florida...',\n",
              "   '\"People need to stop hating\": Florida Man urges healing after his daughter is run over by a white supremacist'),\n",
              "  ('Florida man arrested ref to ste he sex toyearpl toalak he didntt to police to Bae calls c',\n",
              "   \"Florida man refuses to pay for gold-plated steak he didn't order, Salt Bae calls cops\"),\n",
              "  ('Florida woman ste after in c pl in in c inicaneicane c',\n",
              "   'Florida woman wrapping home in plastic ahead of Hurricane Dorian'),\n",
              "  ('Florida man arrested-es on-ampa-D sex- on movementyear onuc on body',\n",
              "   'Florida man prisoner sues Tampa PD for bowel movement-inducing body slam'),\n",
              "  ('Florida Man ste Ref on To Wededed on Buying Fire',\n",
              "   'Florida Man Refuses To Wear Mask While Buying Fireworks'),\n",
              "  ('Florida man arrested toelled c, to c to c to ste home c to esc c',\n",
              "   'Florida man expelled from government building in Washington, returned to home via military escort'),\n",
              "  ('Florida man p drops down p and p to and to p c and co p c',\n",
              "   'Florida man drops down pants and sodomizes pink flamingo to death'),\n",
              "  ('Florida ‘lorida Man stet is to p tox',\n",
              "   '‘Florida Man’ is coming to Netflix'),\n",
              "  ('Florida man with with c on on on on after on on',\n",
              "   'Florida man charged with setting woman on fire after dispute\"'),\n",
              "  ('Florida Man Arrries oned Black Arr Stiesed Her And, on police Craed Truth on p on',\n",
              "   'Florida Woman Tells Police Black Man Stabbed Her And Boyfriend, Crazy Truth Quickly Comes Out'),\n",
              "  ('Florida Man arrested arrested after absed aEnvironment and a on and',\n",
              "   'Florida Man gets arrested for robbing a home... On horseback'),\n",
              "  ('   Man  11811 in   )', 'The First Florida Man in 1899(NOT MINE)'),\n",
              "  ('Florida Man Arredlegededededighbors Withedach Sped police Hed Himself Withakeded',\n",
              "   'Florida Man Allegedly Attacks Neighbors With Roach Spray, Hits Himself With Nunchaku'),\n",
              "  ('Florida man arrested and arrested for the andi a in in in for to to had in in for to for their in in who are the inatorible be in c in in',\n",
              "   'Florida man and woman arrested in Hawaii for fake vaccine cards also had vaccine cards for their two children who are ineligible to get the vaccine'),\n",
              "  ('Florida150year- Floridayear Florida Florida Man,alsals,,  drives to stemart to police tells say to arrested actually being to c to',\n",
              "   \"12-years-old future Florida Man steals school bus, drives it to Walmart, tells police it was actually being driven by 'Constantine.'\"),\n",
              "  ('Florida man and Le and and his and and and and and andots and and and car and and',\n",
              "   'Florida man fathers child with Girlfriend/niece and shoots her and his older daughter'),\n",
              "  ('Florida man and his andmart to anded and and and and to работал.',\n",
              "   'Florida man and fellow Walmart employees kill shoplifter attempting to escape.'),\n",
              "  ('Florida Man ste ually Assaultedenen    ampa  ets 60ampaatto at Florida Author',\n",
              "   'Florida Man Sexually Assaulted Teenagers on Camping Trip, Gave 2 Tattoos: Authorities'),\n",
              "  ('Floridaiesies Florida Man and his and his his polen c mar c c',\n",
              "   'Deputies ask Florida Man to quit calling about his stolen marijuana'),\n",
              "  ('Florida Man steally with with aed with a with a mankingking with his another',\n",
              "   'Florida Man accidentally runs over own brother during fight over a parking space with another man'),\n",
              "  ('Floridaeded policeed Floridaaked Florida man,olen c policeeded say car',\n",
              "   'Sheriff, report: Naked Florida man stole, crashed police car'),\n",
              "  ('Florida man arrested after afteredlyeding after after his ski after and andMember.',\n",
              "   'Florida man arrested after allegedly attacking victim with ski pole, knocking out teeth'),\n",
              "  ('Florida Man and and Mc ands c and c cole and',\n",
              "   'Florida Man attacks McDonald’s worker over a straw.'),\n",
              "  ('Florida Man and and and and that c and that and and and and and and and c and',\n",
              "   'Florida Man and daughter demonstrate that the family that sleeps together, stays together -- or something.'),\n",
              "  ('Florida man arrested after afteraling hised aftered hised his after down hisuckous and hised',\n",
              "   'Florida man arrested after stealing a crossbow by stuffing it down his trousers | US News'),\n",
              "  ('Florida100year-year Florida Man, ,,1000000000 , at',\n",
              "   '27-Year-Old Florida Man Scratches Off $1,000,000 at the Smoke Shop'),\n",
              "  ('Florida Only after Florida after Florida Florida Florida of Florida60 Woman arrested the herills aftert of and at',\n",
              "   \"Only source of income for a single mother of 4 Florida Woman is her kids' lemonade stand\"),\n",
              "  ('Floridas Florida Man ands ands and on on his and ons...',\n",
              "   \"Police find Florida Man's body decomposing on girlfriend's porch.\")],\n",
              " [('Florida man arrested his ‘Despic in Met cost in in c in Orlando sex flash in in',\n",
              "   'Florida man in ‘Despicable Me’ costume fired from Universal Orlando for flashing white power sign'),\n",
              "  ('Florida man steerouts c after on;; afteruck at c outside',\n",
              "   'Florida man shouts at AT&amp;T trucks outside home'),\n",
              "  ('118 Woman  en after  wd  king',\n",
              "   '18 Florida Men en arrested for lewd behavior in parks'),\n",
              "  ('Florida man arrested after  sexUIUI does andw on while andops and to to muchargard anday was c',\n",
              "   'Florida man pulled over for DUI does cartwheel while telling cops about how much Chardonnay he drank'),\n",
              "  ('Florida Florida on Ult Florida Man and”', '“The Ultimate Florida Man”'),\n",
              "  ('Florida man ste 1166edededededed anded',\n",
              "   'Florida man calls 911 after comedian makes Middle East joke'),\n",
              "  ('Florida man andeded wator aededgu on a ony on policeiesies say c It on against.',\n",
              "   'Florida man used a wig as a disguise during robbery, deputies say. It worked against him'),\n",
              "  ('Florida woman arrested after ap after c c after after sex tro on and c and and and',\n",
              "   'Florida woman wants apology from Tom Brady for trophy toss during boat parade'),\n",
              "  ('Florida man pes to to ste to ven c c c',\n",
              "   'Florida man bitten attempting to kiss venomous snake'),\n",
              "  ('Florida Man    - 1-old-oldOld  Burg  ',\n",
              "   'Florida Man Accused Of Taking 4-Year-Old On Burglary Spree'),\n",
              "  ('Florida1--year-year Florida man arrested  with 111year-year friend       he was    ',\n",
              "   '38-year-old Florida man has sex with 11-year-old girl and gets her pregnant because he had a moment of weakness'),\n",
              "  ('Florida man ste to to  toling The  toino of 2000000 ste book The',\n",
              "   'Florida man admits swindling The Mill Casino out of $12,500 to book The Village People'),\n",
              "  ('Florida man arresteds  Kold46ies afterial at c groc',\n",
              "   'Florida man pulls AK-47 during familial dispute at grocery store'),\n",
              "  ('Florida man arrested after he tres after a his sevice and wass afterusted after his hisalsaling condiments tellsops after \"hes c getting own after and',\n",
              "   'Florida man arrested after trespassing in sevice station he\\'s banned from for stealing condiments tells cops \"he\\'s getting his life back together\"'),\n",
              "  ('Florida Woman Womanillseeps BengalЫ ontoies Garden',\n",
              "   'Florida Woman Keeps Bengal Tigers In Her Garden'),\n",
              "  ('Florida man in after he in in in in in in in police iner in c c in policeies say say',\n",
              "   'Florida man arrested after waving loaded gun in one hand, holding beer in the other, deputies say'),\n",
              "  ('Florida Woman andots at daughter she and p atuder',\n",
              "   'Florida mother shoots daughter she thought was intruder'),\n",
              "  (\"Florida man who-its. of. the flooding of Kentucky  painunch  Read more 'http://  kent. com/0055/04/55/0800670/fl-idaoldoldadmitsoldtoold in\",\n",
              "   'Florida man admits to playing key role in flooding Eastern Kentucky with pain pills Read more here: http://www.kentucky.com/2015/04/15/3802673/florida-man-admits-to-play'),\n",
              "  ('Florida Woman arrested (teen to after sex writing to to ste to threaten to and',\n",
              "   'Florida Man (teen) arrested for writing postcard to Santa threatening school shooting'),\n",
              "  ('Floridaaked Florida woman gets in c ins c c police and c c',\n",
              "   \"Naked Florida woman found in stranger's bed, running around town\"),\n",
              "  ('Florida woman womans cigator and after c p and at at at at',\n",
              "   'Florida woman pulls alligator out of pants at fort Meyer traffic stop'),\n",
              "  ('Florida man arrestedededatorator a man wededgsed他th',\n",
              "   'Florida man throws Aligator into a wendys druve-thru'),\n",
              "  (\"Florida Woman arrested Killed Florida Cr on in Using Cars after 'Aut in on.\",\n",
              "   \"FloridaMan Killed in Crash While Using Car's 'Autopilot'\"),\n",
              "  ('Florida Man Arr ed100 000 Afterops, M,ake GlazedUIoughed Crumb  For M',\n",
              "   'Florida Man Awarded $37,500 After Cops Mistake Glazed Doughnut Crumbs For Meth'),\n",
              "  ('Florida Man ste on on on on after Cow on on on on on on',\n",
              "   'Florida Man sets himself on fire after Cowboys lose to Packers'),\n",
              "  ('Florida60 Woman after after after  b  at  at at in',\n",
              "   '5 Florida Guys arrested after brawl in Five Guys'),\n",
              "  ('Florida woman arrestedes andaked and and and c Me at',\n",
              "   'Florida woman Goes Nuts During School Board Meeting.'),\n",
              "  ('Florida Woman Woman Has Sex Withenen anded c and',\n",
              "   'Florida Woman Has Sex With Teenager She Babysat'),\n",
              "  ('Florida man ste to ste buy toto with c c to',\n",
              "   'Florida man tries to buy lotto tickets with movie money'),\n",
              "  ('Florida man arrested   braw, 104 others    in, located the , the 10 at in aoleab',\n",
              "   'Florida man gets into brawl with 14 others at a Hooters located in the tourist district, 1 hospitalized with stab wounds'),\n",
              "  ('Florida Man arrested for sex and and and  and and for and........',\n",
              "   'Florida Man arrested for child porn. He also purchased and ate soiled underwear.'),\n",
              "  ('Florida 118 Florida Man arrested ced ,UI*, L*ckigator ,ES BOT',\n",
              "   'May 18: Florida Man Forced to Suck D*ick or F*ck Alligator... DOES BOTH!')]]"
            ]
          },
          "execution_count": 95,
          "metadata": {},
          "output_type": "execute_result"
        }
      ],
      "source": [
        "pred[:5]"
      ]
    },
    {
      "cell_type": "code",
      "execution_count": 96,
      "id": "a6b0d124",
      "metadata": {},
      "outputs": [],
      "source": [
        "# initialize decoder\n",
        "decoder = TemperatureSamplingDecoder(\n",
        "    params=TemperatureSamplingParams(max_length=200, temperature=0.25, k=5),\n",
        "    model=model,\n",
        ")"
      ]
    },
    {
      "cell_type": "code",
      "execution_count": 100,
      "id": "05550d90",
      "metadata": {},
      "outputs": [
        {
          "data": {
            "text/plain": [
              "'Florida Woman Woman Woman Woman Woman Woman Woman Woman Woman Woman Woman Woman Woman Woman Woman Woman Woman Woman Woman Woman Woman Woman Woman Woman Woman Woman Woman Woman Woman Woman Woman Woman Woman Woman Woman Woman Woman Woman Woman Woman Woman Woman Woman Woman Woman Woman Woman Woman Woman Woman Woman Woman Woman Woman Woman Woman Woman Woman Woman Woman Woman Woman Woman Woman Woman Woman Woman Woman Woman Woman Woman Woman Woman Woman Woman Woman Woman Woman Woman Woman Woman Woman Woman Woman Woman Woman Woman Woman Woman Woman Woman Woman Woman Woman Woman Woman Woman Woman Woman Woman Woman Woman Woman Woman Woman Woman Woman Woman Woman Woman Woman Woman Woman Woman Woman Woman Woman Woman Woman Woman Woman Woman Woman Woman Woman Woman Woman Woman Woman Woman Woman Woman Woman Woman Woman Woman Woman Woman Woman Woman Woman Woman Woman Woman Woman Woman Woman Woman Woman Woman Woman Woman Woman Woman Woman Woman Woman Woman Woman Woman Woman Woman Woman Woman Woman Woman Woman Woman Woman Woman Woman Woman Woman Woman Woman Woman Woman Woman Woman Woman Woman Woman Woman Woman Woman Woman Woman Woman Woman Woman Woman Woman Woman Woman Woman Woman Woman Woman...'"
            ]
          },
          "execution_count": 100,
          "metadata": {},
          "output_type": "execute_result"
        }
      ],
      "source": [
        "decoder.generate()"
      ]
    },
    {
      "cell_type": "code",
      "execution_count": 98,
      "id": "ef8c6d32",
      "metadata": {},
      "outputs": [
        {
          "data": {
            "text/plain": [
              "'Florida man buys c c c c c c c c c c c c c c c c c c c c c c c c c c c c c c c c c c c c c c c c c c c c c c c c c c c c c c c c c c c c c c c c c c c c c c c c c c c c c c c c c c c c c c c c c c c c c c c c c c c c c c c c c c c c c c c c c c c c c c c c c c c c c c c c c c c c c c c c c c c c c c c c c c c c c c c c c c c c c c c c c c c c c c c c c c c c c c c c c c c c c c c c c c c c c c c c c c c...'"
            ]
          },
          "execution_count": 98,
          "metadata": {},
          "output_type": "execute_result"
        }
      ],
      "source": [
        "decoder.generate(\"Florida man buys\")"
      ]
    },
    {
      "cell_type": "code",
      "execution_count": null,
      "id": "a0cccb74",
      "metadata": {},
      "outputs": [],
      "source": []
    }
  ],
  "metadata": {
    "kernelspec": {
      "display_name": "Python 3 (ipykernel)",
      "language": "python",
      "name": "python3"
    },
    "language_info": {
      "codemirror_mode": {
        "name": "ipython",
        "version": 3
      },
      "file_extension": ".py",
      "mimetype": "text/x-python",
      "name": "python",
      "nbconvert_exporter": "python",
      "pygments_lexer": "ipython3",
      "version": "3.11.5"
    }
  },
  "nbformat": 4,
  "nbformat_minor": 5
}
