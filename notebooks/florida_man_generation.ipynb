{
  "cells": [
    {
      "cell_type": "code",
      "execution_count": null,
      "id": "d3c4c691-9f4b-4975-9e03-c8a42c90df33",
      "metadata": {},
      "outputs": [],
      "source": [
        "# https://www.kaggle.com/datasets/bcruise/reddit-rfloridaman"
      ]
    },
    {
      "cell_type": "code",
      "execution_count": 1,
      "id": "d67bc8b9",
      "metadata": {},
      "outputs": [
        {
          "name": "stderr",
          "output_type": "stream",
          "text": [
            "/Users/edwinonuonga/env/llm-arm64/lib/python3.11/site-packages/tqdm/auto.py:21: TqdmWarning: IProgress not found. Please update jupyter and ipywidgets. See https://ipywidgets.readthedocs.io/en/stable/user_install.html\n",
            "  from .autonotebook import tqdm as notebook_tqdm\n",
            "/Users/edwinonuonga/env/llm-arm64/lib/python3.11/site-packages/pydantic/_internal/_generate_schema.py:404: UserWarning: typing.Self is not a Python type (it may be an instance of an object), Pydantic will allow any object with no validation since we cannot even enforce that the input is an instance of the given type. To get rid of this error wrap the type with `pydantic.SkipValidation`.\n",
            "  warn(\n"
          ]
        }
      ],
      "source": [
        "import typing as t\n",
        "\n",
        "from transformer.models import CausalLM\n",
        "from transformer.dataloaders import CausalDataModule\n",
        "from transformer.params import TransformerParams, TemperatureSamplingParams\n",
        "from transformer.decoding import TemperatureSamplingDecoder\n",
        "\n",
        "import pandas as pd\n",
        "from lightning import Trainer\n",
        "from lightning.pytorch.callbacks.early_stopping import EarlyStopping\n",
        "from transformers import LlamaTokenizer"
      ]
    },
    {
      "cell_type": "code",
      "execution_count": 2,
      "id": "6d506536",
      "metadata": {},
      "outputs": [
        {
          "data": {
            "text/plain": [
              "42768    Florida woman assaults boyfriend after he refu...\n",
              "42769    Florida Woman Arrested After Dispute Over Moth...\n",
              "42770    Law firm demands Florida man remove racist ‘co...\n",
              "42771    Florida Man arrested for assaulting wife with ...\n",
              "42772    Half of the articles linked in /r/FloridaMan d...\n",
              "Name: title, dtype: object"
            ]
          },
          "execution_count": 2,
          "metadata": {},
          "output_type": "execute_result"
        }
      ],
      "source": [
        "# load and preview data\n",
        "titles = pd.read_csv(\"data/florida_man.csv\").title\n",
        "titles.tail()"
      ]
    },
    {
      "cell_type": "code",
      "execution_count": 3,
      "id": "df59e6d0",
      "metadata": {},
      "outputs": [],
      "source": [
        "# create data module\n",
        "class FloridaManDataModule(CausalDataModule):\n",
        "    def setup(self: t.Self, stage: str) -> None:\n",
        "        # read titles with 200 or fewer characters from CSV\n",
        "        self.data = titles.loc[titles.str.contains(\"florida\", case=False) & (titles.str.len() <= 200)].to_list()\n",
        "        super().setup(stage=stage)"
      ]
    },
    {
      "cell_type": "code",
      "execution_count": 4,
      "id": "e8e12da4",
      "metadata": {},
      "outputs": [
        {
          "data": {
            "text/plain": [
              "1"
            ]
          },
          "execution_count": 4,
          "metadata": {},
          "output_type": "execute_result"
        }
      ],
      "source": [
        "# initialize pretrained tokenizer for causal language modelling\n",
        "# - llama does not add an EOS token by default, so override this\n",
        "# - llama also does not use a padding token, so this needs to be added\n",
        "tokenizer = LlamaTokenizer.from_pretrained(\n",
        "    \"huggyllama/llama-7b\", add_eos_token=True, legacy=False\n",
        ")\n",
        "tokenizer.add_special_tokens({\"pad_token\": \"<pad>\"})"
      ]
    },
    {
      "cell_type": "code",
      "execution_count": 5,
      "id": "d3d3f031",
      "metadata": {},
      "outputs": [],
      "source": [
        "# initialize the transformer\n",
        "context_length = 64\n",
        "model = CausalLM(\n",
        "    params=TransformerParams(context_length=context_length),\n",
        "    tokenizer=tokenizer,\n",
        ")"
      ]
    },
    {
      "cell_type": "code",
      "execution_count": 6,
      "id": "89332135",
      "metadata": {},
      "outputs": [],
      "source": [
        "# tokenize & encode data and prepare train/test splits\n",
        "datamodule = FloridaManDataModule(\n",
        "    tokenizer=tokenizer,\n",
        "    context_length=context_length,\n",
        "    batch_size=32,\n",
        "    val_size=0.2,\n",
        "    test_size=0.1,\n",
        "    num_workers=9,\n",
        "    persistent_workers=True,\n",
        "    limit=None,\n",
        "    random_state=1,\n",
        ")"
      ]
    },
    {
      "cell_type": "code",
      "execution_count": null,
      "id": "8afacabf",
      "metadata": {},
      "outputs": [],
      "source": [
        "#%load_ext tensorboard\n",
        "#%tensorboard --logdir lightning_logs/"
      ]
    },
    {
      "cell_type": "code",
      "execution_count": 7,
      "id": "cc96abad",
      "metadata": {},
      "outputs": [
        {
          "name": "stderr",
          "output_type": "stream",
          "text": [
            "GPU available: True (mps), used: True\n",
            "TPU available: False, using: 0 TPU cores\n",
            "HPU available: False, using: 0 HPUs\n",
            "Missing logger folder: models/florida_man_generation/lightning_logs\n",
            "\n",
            "  | Name  | Type       | Params | Mode \n",
            "---------------------------------------------\n",
            "0 | model | ModuleDict | 35.3 M | train\n",
            "---------------------------------------------\n",
            "35.3 M    Trainable params\n",
            "0         Non-trainable params\n",
            "35.3 M    Total params\n",
            "141.158   Total estimated model params size (MB)\n"
          ]
        },
        {
          "name": "stdout",
          "output_type": "stream",
          "text": [
            "                                                                           \r"
          ]
        },
        {
          "name": "stderr",
          "output_type": "stream",
          "text": [
            "/Users/edwinonuonga/Desktop/Development/Python/transformer-from-scratch/transformer/models/causal.py:63: UserWarning: MPS: nonzero op is supported natively starting from macOS 13.0. Falling back on CPU. This may have performance implications. (Triggered internally at /Users/runner/work/pytorch/pytorch/pytorch/aten/src/ATen/native/mps/operations/Indexing.mm:334.)\n",
            "  preds = preds.flatten(end_dim=1)[masks]\n"
          ]
        },
        {
          "name": "stdout",
          "output_type": "stream",
          "text": [
            "Epoch 4: 100%|██████████| 861/861 [03:29<00:00,  4.10it/s, v_num=0, val_loss=8.620, train_loss=8.830]"
          ]
        },
        {
          "name": "stderr",
          "output_type": "stream",
          "text": [
            "`Trainer.fit` stopped: `max_epochs=5` reached.\n"
          ]
        },
        {
          "name": "stdout",
          "output_type": "stream",
          "text": [
            "Epoch 4: 100%|██████████| 861/861 [03:30<00:00,  4.10it/s, v_num=0, val_loss=8.620, train_loss=8.830]\n",
            "CPU times: user 16min 3s, sys: 28min 23s, total: 44min 27s\n",
            "Wall time: 17min 12s\n"
          ]
        }
      ],
      "source": [
        "%%time\n",
        "# train the model\n",
        "trainer = Trainer(\n",
        "    max_epochs=100,\n",
        "    callbacks=EarlyStopping(monitor=\"val_loss\", mode=\"min\", patience=5),\n",
        "    accelerator=\"gpu\",\n",
        "    default_root_dir=\"models/florida_man_generation\",\n",
        ")\n",
        "trainer.fit(model=model, datamodule=datamodule)"
      ]
    },
    {
      "cell_type": "code",
      "execution_count": 8,
      "id": "f95a8f68",
      "metadata": {},
      "outputs": [
        {
          "name": "stdout",
          "output_type": "stream",
          "text": [
            "Testing DataLoader 0: 100%|██████████| 123/123 [00:17<00:00,  6.92it/s]\n",
            "────────────────────────────────────────────────────────────────────────────────────────────────────────────────────────\n",
            "       Test metric             DataLoader 0\n",
            "────────────────────────────────────────────────────────────────────────────────────────────────────────────────────────\n",
            "        test_loss            8.626354217529297\n",
            "────────────────────────────────────────────────────────────────────────────────────────────────────────────────────────\n"
          ]
        },
        {
          "data": {
            "text/plain": [
              "[{'test_loss': 8.626354217529297}]"
            ]
          },
          "execution_count": 8,
          "metadata": {},
          "output_type": "execute_result"
        }
      ],
      "source": [
        "# calculate test metrics\n",
        "trainer.test(model=model, datamodule=datamodule)"
      ]
    },
    {
      "cell_type": "code",
      "execution_count": 9,
      "id": "45a4dca8",
      "metadata": {},
      "outputs": [
        {
          "name": "stdout",
          "output_type": "stream",
          "text": [
            "Predicting DataLoader 0: 100%|██████████| 123/123 [00:21<00:00,  5.60it/s]\n"
          ]
        }
      ],
      "source": [
        "# view first batch of test set predictions\n",
        "# note: these are still produced using teacher-forcing, so not purely generated\n",
        "pred = trainer.predict(model=model, datamodule=datamodule)"
      ]
    },
    {
      "cell_type": "code",
      "execution_count": 10,
      "id": "0459cec2",
      "metadata": {},
      "outputs": [
        {
          "data": {
            "text/plain": [
              "[[('Florida Florida in,',\n",
              "   'Florida Woman pulls out in front of motorcycle, drives off leaving couple on the street'),\n",
              "  ('Florida Florida Man ',\n",
              "   'Authorities: Florida Man Recently Died From 1958 Shooting'),\n",
              "  ('Florida Florida man',\n",
              "   'Florida man cuts neighbor with chainsaw during argument over shrubs'),\n",
              "  ('Florida  Florida',\n",
              "   'Very drunk 83-year-old Florida Woman charged with DUI'),\n",
              "  ('Florida Florida Man to 0 in',\n",
              "   'Florida Man Sentenced to 10 Days in Jail for Missing Jury Duty'),\n",
              "  ('Florida Florida Man',\n",
              "   \"Florida Man with last name 'Cocaine' arrested for drug possession\"),\n",
              "  ('Florida Florida man to a',\n",
              "   \"Florida man reportedly 'pretending to be a firework' late at night ahead of holiday weekend\"),\n",
              "  ('Florida Florida Man $0 of and to to a',\n",
              "   'Florida Man buys $0.69 worth of gasoline and uses it to set fire to a McDonalds bathroom'),\n",
              "  ('Florida the of the and',\n",
              "   'Ex-cop Floridaman finds himself on the otherside of the law for stealing cows... twice... and for meth.'),\n",
              "  ('Florida Florida man in', 'Found a Florida man in my local Ohio news'),\n",
              "  ('Florida Florida Man to',\n",
              "   'Florida Man running for state legislature threatens to assassinate his opponent'),\n",
              "  ('Florida Florida man',\n",
              "   'Florida man puts picture of dead wife on Facebook; claims self-defense.'),\n",
              "  ('Florida Florida Man Florida and to after the',\n",
              "   'Officer Florida Man pulls over Black Florida Woman and stumbles to explain why after he finds out she is the State Attorney'),\n",
              "  ('Florida Florida', 'Florida women pulls a knife after a loud fart'),\n",
              "  ('Florida Florida Man in,  Florida',\n",
              "   'Florida Man leaves used condom in playground, 5-year-old Florida Boy found chewing on it.'),\n",
              "  ('Florida Florida in',\n",
              "   'Florida woman tortoise-torture suspect incompetent for trial'),\n",
              "  ('Florida Florida man  to and',\n",
              "   'Florida man calls 911 to request information and assistance on Playstation network outage'),\n",
              "  ('Florida Florida Man to man',\n",
              "   'Florida Man goes to strip club after killing a man: cops'),\n",
              "  ('Florida Florida Man,, to',\n",
              "   'Florida Man arrives by cab, drunk, to rob Tallahassee bank. Gets tased'),\n",
              "  ('Florida Florida to ', 'Florida woman gives birth to a 13.5 pound baby'),\n",
              "  ('Florida in Florida Man', 'Today in Florida Man.'),\n",
              "  ('Florida Florida Man Florida',\n",
              "   'Florida Man Tries To Shoot Bucket Off Friend’s Head And It Doesn’t End Well…'),\n",
              "  ('Florida Florida man,', 'Florida man, attacks again'),\n",
              "  ('Florida Florida,',\n",
              "   'Florida woman crashes car into tree, jumps into canal'),\n",
              "  ('Florida Florida',\n",
              "   'Florida woman squeezed boyfriend’s genitals ‘until they bled’'),\n",
              "  ('Florida Florida Man,',\n",
              "   'What pets do Florida Man and Woman have? Well, gators of course.'),\n",
              "  ('Florida Florida man,, after Florida of in',\n",
              "   'Florida man wanted for allegedly pouring boiling water on boy, 3, one year after being accused of putting girl in oven'),\n",
              "  ('Florida Florida Man', 'Florida Man fires gun while delivering newspapers'),\n",
              "  ('Florida Florida in',\n",
              "   'Irate FloridaWoman swerves in front of school bus so daughter can board'),\n",
              "  ('Florida Florida Man',\n",
              "   'Florida Man Moderated a Facebook Group Full of Racists'),\n",
              "  ('Florida Florida man to ',\n",
              "   'Florida man parks Tesla on strangers Lawn steals electricity to charge car for 12 hours'),\n",
              "  ('Florida Florida for $ toM in Florida, a compla Florida Man who of, to Florida.',\n",
              "   'Florida diocese sued for $5M in damages, because they ignored a prior complaint against Florida Man (Florida Minister), who of course, went on to abuse another child.')],\n",
              " [('Florida Florida Woman Florida with 5month in, to Florida to to her while for Florida in to beer',\n",
              "   'Florida Woman drove drunk with 5-month-old in back seat, kicked troopers trying to arrest her while on probation for stabbing guy in neck over stolen beer at party'),\n",
              "  ('Florida', 'Floridaman takes away his own guns.'),\n",
              "  ('Florida Florida man to a a,',\n",
              "   'Florida man showing how to clean a gun during a video chat accidentally shoots self, dies'),\n",
              "  ('Florida Florida Man ', 'Florida Man Returns Stolen Sign After 30 Years'),\n",
              "  ('Florida Florida Man,',\n",
              "   'Hey Florida Man, your news is leaking into Iowa. Thanks'),\n",
              "  ('Florida Florida Man',\n",
              "   'Florida Man Iguana Hunter Kills Giant Invasive Lizards'),\n",
              "  ('Florida Florida in of',\n",
              "   'FloridaMan involved in officer-involved shooting at party blames actions on ‘a bad batch of cocaine,’ arrest records show'),\n",
              "  ('Florida Florida man in the,',\n",
              "   'Florida man shoots woman in the head for ‘jokingly’ slapping him, police say'),\n",
              "  ('Florida Florida Man,  in  ',\n",
              "   'Florida Man Basketball player, scores 30 points in 4 ½ minutes'),\n",
              "  ('Florida Florida',\n",
              "   'Florida Woman Loses Her Mind on Car That Stops on Crosswalk &amp; Blocks Her'),\n",
              "  ('Florida Florida man to',\n",
              "   \"Florida man complains to mayor about 'cat explosion'\"),\n",
              "  ('Florida Florida man',\n",
              "   'Florida man &amp; woman arrested for shooting flare gun at two people that were serving legal papers'),\n",
              "  ('Florida Florida man Florida to to',\n",
              "   'Florida man stabbed co-worker to death because she refused to date him'),\n",
              "  ('Florida Florida man, a',\n",
              "   'Florida man sets car on fire, asks retired cop for a ride away from the scene'),\n",
              "  ('Florida Florida Man to in',\n",
              "   'Florida Man arrested for trying to drop his principal in the RKO'),\n",
              "  ('Florida Florida man',\n",
              "   'Florida man killed over broccoli being sold as weed'),\n",
              "  ('Florida Florida',\n",
              "   'Bikini Clad Florida woman offered BJ after accident. Her last name checks out.'),\n",
              "  ('Florida Florida man in. her and the, in the.',\n",
              "   'Florida man was just standing in line at Publix. His wife dropped her purse and the gun inside went off, hitting him in the shin.'),\n",
              "  ('Florida Florida Man ',\n",
              "   'Florida Man Botches Home Castration on Willing 2nd Party'),\n",
              "  ('Florida Florida man to', 'Florida man yet to be found'),\n",
              "  ('Florida Florida Man',\n",
              "   'Florida Man is back on shelves for a limited time!'),\n",
              "  ('Florida Florida Man in',\n",
              "   'Florida Man robs someone in plain sight of police officer'),\n",
              "  ('Florida Florida Man Florida Florida Florida, 1 Florida Florida, 4 Florida',\n",
              "   'Florida Man Loses Control Of Semi-Truck Hauling Sharks And Wrecks, 1 Shark Dead On Scene, 4 Others Being Moved From Tanks'),\n",
              "  ('Florida Florida man,',\n",
              "   'Florida man tries breaking into house, dies when window closes on him'),\n",
              "  ('Florida Florida Man', 'The History and Background of Florida Man'),\n",
              "  ('Florida Florida man in ',\n",
              "   'Florida man arrested after sex in Walgreens bathroom scared 6-year-old girl'),\n",
              "  ('Florida Florida man', \"Florida man's FARTD license plate banned\"),\n",
              "  ('Florida Florida man',\n",
              "   'Florida man tells cops playing basketball naked enhances his skills'),\n",
              "  ('Florida Florida man to 0 after, to',\n",
              "   'Florida man sentenced to 20 years after bringing condoms, pink dress to child-sex sting'),\n",
              "  ('Florida Florida man',\n",
              "   \"Florida man arrested after allegedly punching and breaking McDonald's sign\"),\n",
              "  ('Florida Florida Man  in aer and',\n",
              "   'Florida Man made several 911 calls in which he hit on a dispatcher and bragged about his big muscles'),\n",
              "  ('Florida Florida', 'Florida couple seperated.')],\n",
              " [('Florida Florida man a man and',\n",
              "   'Florida man hangs self; his body is mistaken for a mannequin and thrown away.'),\n",
              "  ('Florida Florida in in,',\n",
              "   'Florida is the worst state in the nation in every way, new rankings say'),\n",
              "  ('Florida Florida Man to',\n",
              "   'Florida Man Wants to Turn Sharks into Storm Chasers'),\n",
              "  ('Florida  Florida Man,, the',\n",
              "   '62 yr old Florida Man kidnaps, kills 25 yr old ex-girlfriend, now on the run'),\n",
              "  ('Florida 00 Florida, ', '100% Florida, all day everyday. 🇺🇸'),\n",
              "  ('Florida Florida',\n",
              "   'Florida woman Crystal Methvin busted with crystal meth'),\n",
              "  ('Florida Florida', 'Florida woman is...well...Florida woman'),\n",
              "  ('Florida Florida Florida Florida',\n",
              "   \"Florida being Florida. Don't mix weather and bounce houses.\"),\n",
              "  ('Florida Florida man to',\n",
              "   'Florida man gets deputies to pull him over so he can propose.'),\n",
              "  ('Florida Florida Man Florida,, and',\n",
              "   'Florida Man talks about Florida women, dead body, and an algae-assisted arrest'),\n",
              "  ('Florida Florida man to,',\n",
              "   'Florida man travels to meet up with underage girl for sex, is confronted by her parents instead—police'),\n",
              "  ('Florida Florida Man to',\n",
              "   'Florida Man Converts to Islam Then Shoots Neo-Nazi Roommates for Disrespecting Islam'),\n",
              "  ('Florida Florida Man in',\n",
              "   \"Florida Man charged in neighbor's tractor attack\"),\n",
              "  ('Florida Florida Man', 'Florida Man George Zimmerman arrested again'),\n",
              "  ('Florida Florida in', 'Florida woman in a smelly situation'),\n",
              "  ('Florida Florida Man',\n",
              "   'FBI Arrests Florida Man After Supplying Him with Explosives'),\n",
              "  ('Florida Florida man',\n",
              "   'Florida man arrested for DUI after mistaking bank drive-thru for Taco Bell'),\n",
              "  ('Florida Florida Man', 'Florida Man Busted For Glass Eye Toss'),\n",
              "  ('Florida Florida', 'Florida woman blames dog for DUI'),\n",
              "  ('Florida Florida man to, and 24.t the a Florida.',\n",
              "   \"Florida man tries to race another driver, revs his engine and blasts off at 124 mph. He didn't realize the other driver was a cop.\"),\n",
              "  ('Florida', 'the first floridaman'),\n",
              "  ('Florida Florida Man, and Florida the, Florida Florida Man,',\n",
              "   'Florida Man bites dog, and then the story gets weird. Well, not that weird for Florida Man, perhaps.'),\n",
              "  ('Florida Florida man',\n",
              "   'Florida man shoots flamethrower at neighbors following dispute about parking'),\n",
              "  ('Florida Florida Man in, Florida of and',\n",
              "   'Florida Man involved in fatal accident, posts photo on social media of himself standing and smiling my his wrecked car.'),\n",
              "  ('Florida Florida man in Florida',\n",
              "   'Florida man plays drinking game in which the rules involve the loser getting stabbed'),\n",
              "  ('Florida Florida man to',\n",
              "   'Florida man seems to have voted for Donald Trump'),\n",
              "  ('Florida Florida', 'Florida woman'),\n",
              "  ('Florida Florida Man',\n",
              "   \"Florida Man tosses gator through Wendy's drove thru window.\"),\n",
              "  ('Florida Florida man arrested after and the of in a',\n",
              "   'Florida man arrested on pot charge after he and the driver bought four bags of food in a KFC drive-through.'),\n",
              "  ('Florida Florida Man Florida Man to in',\n",
              "   'Florida Man(the governor) inspires other Florida Man to resign in protest'),\n",
              "  ('Florida Florida man, to',\n",
              "   'Florida man gets fired for battery, breaks into workplace and sends documentation to former employer'),\n",
              "  ('Florida Florida man', 'Florida man kills lionfish with Glock handgun')],\n",
              " [('Florida Florida', 'Florida woman steals $85k from Girl Scouts'),\n",
              "  ('Florida Florida Man, to',\n",
              "   'Florida Man says he is Jesus Christ, tries to shatter gas station door with brick'),\n",
              "  ('Florida Florida Man Man',\n",
              "   'White Collar Florida Man Tax Man Busted for Sex Trafficking'),\n",
              "  ('Florida Florida Man the in',\n",
              "   'Florida Man Claims Homemade Bombs Are For “Fishing” (Even the One With Nails in It)'),\n",
              "  ('Florida to Florida Man Florida after a',\n",
              "   '\"People need to stop hating\": Florida Man urges healing after his daughter is run over by a white supremacist'),\n",
              "  ('Florida Florida man to,',\n",
              "   \"Florida man refuses to pay for gold-plated steak he didn't order, Salt Bae calls cops\"),\n",
              "  ('Florida Florida in',\n",
              "   'Florida woman wrapping home in plastic ahead of Hurricane Dorian'),\n",
              "  ('Florida Florida man',\n",
              "   'Florida man prisoner sues Tampa PD for bowel movement-inducing body slam'),\n",
              "  ('Florida Florida Man',\n",
              "   'Florida Man Refuses To Wear Mask While Buying Fireworks'),\n",
              "  ('Florida Florida man in, to',\n",
              "   'Florida man expelled from government building in Washington, returned to home via military escort'),\n",
              "  ('Florida Florida man and to',\n",
              "   'Florida man drops down pants and sodomizes pink flamingo to death'),\n",
              "  ('Florida Man to', '‘Florida Man’ is coming to Netflix'),\n",
              "  ('Florida Florida man',\n",
              "   'Florida man charged with setting woman on fire after dispute\"'),\n",
              "  ('Florida Florida Man Florida,',\n",
              "   'Florida Woman Tells Police Black Man Stabbed Her And Boyfriend, Crazy Truth Quickly Comes Out'),\n",
              "  ('Florida Florida Man',\n",
              "   'Florida Man gets arrested for robbing a home... On horseback'),\n",
              "  ('Florida Florida Man in ', 'The First Florida Man in 1899(NOT MINE)'),\n",
              "  ('Florida Florida Man,',\n",
              "   'Florida Man Allegedly Attacks Neighbors With Roach Spray, Hits Himself With Nunchaku'),\n",
              "  ('Florida Florida man and arrested in for for in Florida to the',\n",
              "   'Florida man and woman arrested in Hawaii for fake vaccine cards also had vaccine cards for their two children who are ineligible to get the vaccine'),\n",
              "  ('Florida s Florida Man, to, Florida',\n",
              "   \"12-years-old future Florida Man steals school bus, drives it to Walmart, tells police it was actually being driven by 'Constantine.'\"),\n",
              "  ('Florida Florida man and and',\n",
              "   'Florida man fathers child with Girlfriend/niece and shoots her and his older daughter'),\n",
              "  ('Florida Florida man to',\n",
              "   'Florida man and fellow Walmart employees kill shoplifter attempting to escape.'),\n",
              "  ('Florida Florida Man, ',\n",
              "   'Florida Man Sexually Assaulted Teenagers on Camping Trip, Gave 2 Tattoos: Authorities'),\n",
              "  ('Florida Florida Man to',\n",
              "   'Deputies ask Florida Man to quit calling about his stolen marijuana'),\n",
              "  ('Florida Florida Man a Florida man',\n",
              "   'Florida Man accidentally runs over own brother during fight over a parking space with another man'),\n",
              "  ('Florida, Florida man,',\n",
              "   'Sheriff, report: Naked Florida man stole, crashed police car'),\n",
              "  ('Florida Florida man,',\n",
              "   'Florida man arrested after allegedly attacking victim with ski pole, knocking out teeth'),\n",
              "  ('Florida Florida Man',\n",
              "   'Florida Man attacks McDonald’s worker over a straw.'),\n",
              "  ('Florida Florida Man and,',\n",
              "   'Florida Man and daughter demonstrate that the family that sleeps together, stays together -- or something.'),\n",
              "  ('Florida Florida man after a',\n",
              "   'Florida man arrested after stealing a crossbow by stuffing it down his trousers | US News'),\n",
              "  ('Florida  Florida Man $,000,000 the',\n",
              "   '27-Year-Old Florida Man Scratches Off $1,000,000 at the Smoke Shop'),\n",
              "  ('Florida Florida a  Florida',\n",
              "   \"Only source of income for a single mother of 4 Florida Woman is her kids' lemonade stand\"),\n",
              "  ('Florida Florida Man',\n",
              "   \"Police find Florida Man's body decomposing on girlfriend's porch.\")],\n",
              " [('Florida Florida man in',\n",
              "   'Florida man in ‘Despicable Me’ costume fired from Universal Orlando for flashing white power sign'),\n",
              "  ('Florida Florida man',\n",
              "   'Florida man shouts at AT&amp;T trucks outside home'),\n",
              "  ('Florida  Florida in',\n",
              "   '18 Florida Men en arrested for lewd behavior in parks'),\n",
              "  ('Florida Florida man Florida',\n",
              "   'Florida man pulled over for DUI does cartwheel while telling cops about how much Chardonnay he drank'),\n",
              "  ('Florida Florida Man', '“The Ultimate Florida Man”'),\n",
              "  ('Florida Florida man ',\n",
              "   'Florida man calls 911 after comedian makes Middle East joke'),\n",
              "  ('Florida Florida man a a,',\n",
              "   'Florida man used a wig as a disguise during robbery, deputies say. It worked against him'),\n",
              "  ('Florida Florida',\n",
              "   'Florida woman wants apology from Tom Brady for trophy toss during boat parade'),\n",
              "  ('Florida Florida man to',\n",
              "   'Florida man bitten attempting to kiss venomous snake'),\n",
              "  ('Florida Florida Man ',\n",
              "   'Florida Man Accused Of Taking 4-Year-Old On Burglary Spree'),\n",
              "  ('Florida  Florida man  and gets her Florida a of',\n",
              "   '38-year-old Florida man has sex with 11-year-old girl and gets her pregnant because he had a moment of weakness'),\n",
              "  ('Florida Florida man $,00 to',\n",
              "   'Florida man admits swindling The Mill Casino out of $12,500 to book The Village People'),\n",
              "  ('Florida Florida man',\n",
              "   'Florida man pulls AK-47 during familial dispute at grocery store'),\n",
              "  ('Florida Florida man arrested after in Floridas fors',\n",
              "   'Florida man arrested after trespassing in sevice station he\\'s banned from for stealing condiments tells cops \"he\\'s getting his life back together\"'),\n",
              "  ('Florida Florida Florida',\n",
              "   'Florida Woman Keeps Bengal Tigers In Her Garden'),\n",
              "  ('Florida Florida man after in, in the,',\n",
              "   'Florida man arrested after waving loaded gun in one hand, holding beer in the other, deputies say'),\n",
              "  ('Florida Florida',\n",
              "   'Florida mother shoots daughter she thought was intruder'),\n",
              "  ('Florida Florida man admits to playing key role in flooding Eastern Kentucky with pain pills Read more here: http://www.kentucky.com/2015/04/15/3802673/florida-man-admits-to-play',\n",
              "   'Florida man admits to playing key role in flooding Eastern Kentucky with pain pills Read more here: http://www.kentucky.com/2015/04/15/3802673/florida-man-admits-to-play'),\n",
              "  ('Florida Florida Man to',\n",
              "   'Florida Man (teen) arrested for writing postcard to Santa threatening school shooting'),\n",
              "  ('Florida Florida in,',\n",
              "   \"Naked Florida woman found in stranger's bed, running around town\"),\n",
              "  ('Florida Florida',\n",
              "   'Florida woman pulls alligator out of pants at fort Meyer traffic stop'),\n",
              "  ('Florida Florida man',\n",
              "   'Florida man throws Aligator into a wendys druve-thru'),\n",
              "  ('Florida Florida in',\n",
              "   \"FloridaMan Killed in Crash While Using Car's 'Autopilot'\"),\n",
              "  ('Florida Florida Man $,00',\n",
              "   'Florida Man Awarded $37,500 After Cops Mistake Glazed Doughnut Crumbs For Meth'),\n",
              "  ('Florida Florida Man to',\n",
              "   'Florida Man sets himself on fire after Cowboys lose to Packers'),\n",
              "  ('Florida  Florida in', '5 Florida Guys arrested after brawl in Five Guys'),\n",
              "  ('Florida Florida', 'Florida woman Goes Nuts During School Board Meeting.'),\n",
              "  ('Florida Florida', 'Florida Woman Has Sex With Teenager She Babysat'),\n",
              "  ('Florida Florida man to',\n",
              "   'Florida man tries to buy lotto tickets with movie money'),\n",
              "  ('Florida Florida man gets  a in the,  Florida',\n",
              "   'Florida man gets into brawl with 14 others at a Hooters located in the tourist district, 1 hospitalized with stab wounds'),\n",
              "  ('Florida Florida Man and a',\n",
              "   'Florida Man arrested for child porn. He also purchased and ate soiled underwear.'),\n",
              "  ('Florida  Florida Man to Florida',\n",
              "   'May 18: Florida Man Forced to Suck D*ick or F*ck Alligator... DOES BOTH!')]]"
            ]
          },
          "execution_count": 10,
          "metadata": {},
          "output_type": "execute_result"
        }
      ],
      "source": [
        "pred[:5]"
      ]
    },
    {
      "cell_type": "code",
      "execution_count": 11,
      "id": "a6b0d124",
      "metadata": {},
      "outputs": [],
      "source": [
        "# initialize decoder\n",
        "decoder = TemperatureSamplingDecoder(\n",
        "    params=TemperatureSamplingParams(max_length=200, temperature=0.25, k=5),\n",
        "    model=model,\n",
        ")"
      ]
    },
    {
      "cell_type": "code",
      "execution_count": 12,
      "id": "05550d90",
      "metadata": {},
      "outputs": [
        {
          "data": {
            "text/plain": [
              "'Florida Florida Florida Florida Florida Florida Florida Florida Florida'"
            ]
          },
          "execution_count": 12,
          "metadata": {},
          "output_type": "execute_result"
        }
      ],
      "source": [
        "decoder.generate()"
      ]
    },
    {
      "cell_type": "code",
      "execution_count": 22,
      "id": "ef8c6d32",
      "metadata": {},
      "outputs": [
        {
          "data": {
            "text/plain": [
              "'Florida man man man man to to to to to to to to to to to to to to to to to to to to to to to to to to to to to to to to to to to to to to to to to to to to to to to to to to to to to to to to to to to to to to to to to to to to to to to to to to to to to to to to to to to to to to to to to to to to to to to to to to to to to to to to to to to to to to to to to to to to to to to to to to to to to to to to to to to to to to to to to to to to to to to to to to to to to to to to to to to to to to to to to to to to to to to to to to to to to to to to to to to to to to to to to to to to to to to to to to...'"
            ]
          },
          "execution_count": 22,
          "metadata": {},
          "output_type": "execute_result"
        }
      ],
      "source": [
        "decoder.generate(\"Florida man\")"
      ]
    },
    {
      "cell_type": "code",
      "execution_count": null,
      "id": "a0cccb74",
      "metadata": {},
      "outputs": [],
      "source": []
    }
  ],
  "metadata": {
    "kernelspec": {
      "display_name": "Python 3 (ipykernel)",
      "language": "python",
      "name": "python3"
    },
    "language_info": {
      "codemirror_mode": {
        "name": "ipython",
        "version": 3
      },
      "file_extension": ".py",
      "mimetype": "text/x-python",
      "name": "python",
      "nbconvert_exporter": "python",
      "pygments_lexer": "ipython3",
      "version": "3.11.5"
    }
  },
  "nbformat": 4,
  "nbformat_minor": 5
}
