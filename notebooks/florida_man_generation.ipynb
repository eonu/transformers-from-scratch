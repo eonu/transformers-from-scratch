{
 "cells": [
  {
   "cell_type": "code",
   "execution_count": 14,
   "id": "d3c4c691-9f4b-4975-9e03-c8a42c90df33",
   "metadata": {},
   "outputs": [],
   "source": [
    "# https://www.kaggle.com/code/bcruise/adventures-of-florida-man/input"
   ]
  },
  {
   "cell_type": "code",
   "execution_count": 1,
   "id": "d67bc8b9",
   "metadata": {},
   "outputs": [
    {
     "name": "stderr",
     "output_type": "stream",
     "text": [
      "/Users/edwinonuonga/env/llm-arm64/lib/python3.11/site-packages/tqdm/auto.py:21: TqdmWarning: IProgress not found. Please update jupyter and ipywidgets. See https://ipywidgets.readthedocs.io/en/stable/user_install.html\n",
      "  from .autonotebook import tqdm as notebook_tqdm\n"
     ]
    }
   ],
   "source": [
    "import typing as t\n",
    "\n",
    "from transformer.models.causal import CausalLM\n",
    "from transformer.dataloaders.teacher_forcing import TeacherForcingDataModule\n",
    "from transformer.params import TransformerParams\n",
    "\n",
    "import pandas as pd\n",
    "from lightning import Trainer\n",
    "from lightning.pytorch.callbacks.early_stopping import EarlyStopping\n",
    "from transformers import LlamaTokenizer"
   ]
  },
  {
   "cell_type": "code",
   "execution_count": 2,
   "id": "6d506536",
   "metadata": {},
   "outputs": [
    {
     "data": {
      "text/plain": [
       "42768    Florida woman assaults boyfriend after he refu...\n",
       "42769    Florida Woman Arrested After Dispute Over Moth...\n",
       "42770    Law firm demands Florida man remove racist ‘co...\n",
       "42771    Florida Man arrested for assaulting wife with ...\n",
       "42772    Half of the articles linked in /r/FloridaMan d...\n",
       "Name: title, dtype: object"
      ]
     },
     "execution_count": 2,
     "metadata": {},
     "output_type": "execute_result"
    }
   ],
   "source": [
    "# load and preview data\n",
    "titles = pd.read_csv(\"data/florida_man.csv\").title\n",
    "titles.tail()"
   ]
  },
  {
   "cell_type": "code",
   "execution_count": 3,
   "id": "df59e6d0",
   "metadata": {},
   "outputs": [],
   "source": [
    "# create data module\n",
    "class FloridaManDataModule(TeacherForcingDataModule):\n",
    "    def setup(self: t.Self, stage: str) -> None:\n",
    "        # read titles with 200 or fewer characters from CSV\n",
    "        self.data = titles.loc[titles.str.len() <= 200].to_list()\n",
    "        super().setup(stage=stage)"
   ]
  },
  {
   "cell_type": "code",
   "execution_count": 4,
   "id": "e8e12da4",
   "metadata": {},
   "outputs": [
    {
     "data": {
      "text/plain": [
       "1"
      ]
     },
     "execution_count": 4,
     "metadata": {},
     "output_type": "execute_result"
    }
   ],
   "source": [
    "# initialize pretrained tokenizer for causal language modelling\n",
    "# - llama does not add an EOS token by default, so override this\n",
    "# - llama also does not use a padding token, so this needs to be added\n",
    "tokenizer = LlamaTokenizer.from_pretrained(\n",
    "    \"huggyllama/llama-7b\", add_eos_token=True, legacy=False\n",
    ")\n",
    "tokenizer.add_special_tokens({\"pad_token\": \"<pad>\"})"
   ]
  },
  {
   "cell_type": "code",
   "execution_count": 5,
   "id": "d3d3f031",
   "metadata": {},
   "outputs": [],
   "source": [
    "# initialize the transformer\n",
    "context_length = 64\n",
    "model = CausalLM(\n",
    "    config=TransformerParams(context_length=context_length),\n",
    "    tokenizer=tokenizer,\n",
    ")"
   ]
  },
  {
   "cell_type": "code",
   "execution_count": 6,
   "id": "89332135",
   "metadata": {},
   "outputs": [],
   "source": [
    "# tokenize & encode data and prepare train/test splits\n",
    "datamodule = FloridaManDataModule(\n",
    "    tokenizer=tokenizer,\n",
    "    context_length=context_length,\n",
    "    batch_size=32,\n",
    "    val_size=0.2,\n",
    "    test_size=0.1,\n",
    "    num_workers=9,\n",
    "    persistent_workers=True,\n",
    "    limit=None,\n",
    "    random_state=1,\n",
    ")"
   ]
  },
  {
   "cell_type": "code",
   "execution_count": 7,
   "id": "8afacabf",
   "metadata": {},
   "outputs": [
    {
     "data": {
      "text/html": [
       "\n",
       "      <iframe id=\"tensorboard-frame-f949fcce4c3e2c40\" width=\"100%\" height=\"800\" frameborder=\"0\">\n",
       "      </iframe>\n",
       "      <script>\n",
       "        (function() {\n",
       "          const frame = document.getElementById(\"tensorboard-frame-f949fcce4c3e2c40\");\n",
       "          const url = new URL(\"/\", window.location);\n",
       "          const port = 6007;\n",
       "          if (port) {\n",
       "            url.port = port;\n",
       "          }\n",
       "          frame.src = url;\n",
       "        })();\n",
       "      </script>\n",
       "    "
      ],
      "text/plain": [
       "<IPython.core.display.HTML object>"
      ]
     },
     "metadata": {},
     "output_type": "display_data"
    }
   ],
   "source": [
    "%load_ext tensorboard\n",
    "%tensorboard --logdir lightning_logs/"
   ]
  },
  {
   "cell_type": "code",
   "execution_count": 8,
   "id": "cc96abad",
   "metadata": {},
   "outputs": [
    {
     "name": "stderr",
     "output_type": "stream",
     "text": [
      "GPU available: True (mps), used: True\n",
      "TPU available: False, using: 0 TPU cores\n",
      "HPU available: False, using: 0 HPUs\n",
      "\n",
      "  | Name  | Type       | Params | Mode \n",
      "---------------------------------------------\n",
      "0 | model | ModuleDict | 35.3 M | train\n",
      "---------------------------------------------\n",
      "35.3 M    Trainable params\n",
      "0         Non-trainable params\n",
      "35.3 M    Total params\n",
      "141.158   Total estimated model params size (MB)\n"
     ]
    },
    {
     "name": "stdout",
     "output_type": "stream",
     "text": [
      "                                                                           \r"
     ]
    },
    {
     "name": "stderr",
     "output_type": "stream",
     "text": [
      "/Users/edwinonuonga/Desktop/Development/Python/transformer-from-scratch/transformer/models/causal.py:61: UserWarning: MPS: nonzero op is supported natively starting from macOS 13.0. Falling back on CPU. This may have performance implications. (Triggered internally at /Users/runner/work/pytorch/pytorch/pytorch/aten/src/ATen/native/mps/operations/Indexing.mm:334.)\n",
      "  preds = preds.flatten(end_dim=1)[masks]\n"
     ]
    },
    {
     "name": "stdout",
     "output_type": "stream",
     "text": [
      "Epoch 70: 100%|██████████| 929/929 [03:43<00:00,  4.16it/s, v_num=2, val_loss=7.890, train_loss=7.860]\n",
      "CPU times: user 4h 1min 32s, sys: 7h 50min 55s, total: 11h 52min 27s\n",
      "Wall time: 4h 25min 29s\n"
     ]
    }
   ],
   "source": [
    "%%time\n",
    "# train the model\n",
    "trainer = Trainer(\n",
    "    max_epochs=100,\n",
    "    callbacks=EarlyStopping(monitor=\"val_loss\", mode=\"min\", patience=5),\n",
    "    accelerator=\"gpu\",\n",
    ")\n",
    "trainer.fit(model=model, datamodule=datamodule)"
   ]
  },
  {
   "cell_type": "code",
   "execution_count": null,
   "id": "f95a8f68",
   "metadata": {},
   "outputs": [],
   "source": [
    "# calculate test metrics\n",
    "trainer.test(model=model, datamodule=datamodule)"
   ]
  },
  {
   "cell_type": "code",
   "execution_count": 9,
   "id": "45a4dca8",
   "metadata": {},
   "outputs": [
    {
     "name": "stdout",
     "output_type": "stream",
     "text": [
      "Predicting DataLoader 0: 100%|██████████| 133/133 [00:16<00:00,  8.17it/s]\n"
     ]
    }
   ],
   "source": [
    "# view first batch of test set predictions\n",
    "# note: these are still produced using teacher-forcing, so not purely generated\n",
    "pred = trainer.predict(model=model, datamodule=datamodule)"
   ]
  },
  {
   "cell_type": "code",
   "execution_count": 10,
   "id": "0459cec2",
   "metadata": {},
   "outputs": [
    {
     "data": {
      "text/plain": [
       "[[('Florida16 Man to,fighters fired for alleg,, toose overagues',\n",
       "   \"6 FloridaMan firefighters fired for allegedly placing noose over black colleague's family photo, officials say\"),\n",
       "  ('Florida Man Woman,117, old daughter on snapchat having sex and,118, old Man',\n",
       "   'Florida Woman sees 17 year old daughter on snapchat having sex and gets 18 year old Florida Man busted for child porn'),\n",
       "  (\"Florida Man' and for after\",\n",
       "   'Florida Man and friends arrested after high speed chase'),\n",
       "  ('Florida Man arrested sho Florida at,pper after',\n",
       "   'Florida man shoots at stripper after she refused to have sex with him.'),\n",
       "  ('Florida Man, Assaults Woman, Calls \"',\n",
       "   'Florida Man Assaults Woman, Calls Her \"Old Snaggletooth Lady\".'),\n",
       "  ('Florida Man, to his friend with a with of nunch',\n",
       "   'Florida Man attacks his friend with a pair of nunchucks for failing to return his DVDs'),\n",
       "  ('Florida Florida Man, was for after,, her,-,,ss with her and',\n",
       "   'A Florida lawyer was arrested after ramming her ex-husband’s house with her SUV and vomiting on a deputy'),\n",
       "  ('Florida Florida-year- Florida Man',\n",
       "   'Three-year-old Florida boy drives big wheel onto major highway'),\n",
       "  ('Florida Man arrested threat Florida to to landsc after are',\n",
       "   'Florida man threatens to kill landscapers after grass clippings are left on lawn'),\n",
       "  ('Florida Man', 'Florida Man saves the bees!'),\n",
       "  ('Florida Man', 'Florida man'),\n",
       "  ('Florida Man Muslim Florida Att, to Pat,, Threaten to inknap an and',\n",
       "   'Florida Muslims Attack Bar Patrons, Threaten to “kidnap an American and behead him” -'),\n",
       "  ('Florida Man arrested', 'Florida man gets invaded my crabs'),\n",
       "  ('Florida Man in who toed for',\n",
       "   'Florida woman who sued for ivermectin dies from COVID'),\n",
       "  ('Florida Florida Florida to Ep1 (',\n",
       "   'The Burg Project Ep.1 (ReUpload) florida man'),\n",
       "  ('Florida Man, steals, delivery touck with a',\n",
       "   'Florida Man steals Amazon delivery truck with a knife he pretended was a gun.'),\n",
       "  ('Florida Man arrested repeatedly offers to to IH, to, his genitals, and then ste',\n",
       "   'Florida man repeatedly offers to show IHOP patrons his genitals, and then steals doughnuts.'),\n",
       "  ('Florida Man', 'Florida Man Becomes pigeon'),\n",
       "  ('Florida Man arrested charged with DUI after with2',\n",
       "   'Florida man charged with DUI after crash with SUV carrying family of 5.'),\n",
       "  ('Florida Man arrested toies breaking a Florida, saying ins that',\n",
       "   \"Florida man denies breaking a window, saying it must've been that shifty cat.\"),\n",
       "  (\"Florida Man'estedested foring\",\n",
       "   'Florida Man Arrested for Flashing Man During Parking Dispute'),\n",
       "  ('Florida Man, to Florida to toos Florida After Atting to',\n",
       "   'Florida Man Dies in Explosion After Attempting to Microwave a Microwave'),\n",
       "  ('Florida Man in for Florida',\n",
       "   'Florida woman arrested in fight over chicken and biscuits'),\n",
       "  ('Florida Man for found withs',\n",
       "   \"Florida cat found with rope around it's neck.\"),\n",
       "  ('Florida Man arrested with coca in on nose tells deputs',\n",
       "   \"Florida man with cocaine on nose tells deputies it's not his, officials say\"),\n",
       "  ('Florida This, like, applies to, Man arrested. Man was told to to, at Hurr, Dorian and has, a this a. hurr',\n",
       "   'This seems like it applies to every Florida man. Florida was told not to shoot at Hurricane Dorian and has been told this for every hurricane since Irma...'),\n",
       "  ('Florida Man, to Florida with/Suic, by, his,ansion on2',\n",
       "   'Florida Man commits Arson/Suicide by setting his mansion on fire. Family of 4 Killed'),\n",
       "  ('Florida181-year- Florida charged withoting',\n",
       "   '81-year-old charged with looting Polk tangerine grove'),\n",
       "  ('Florida Man arrested Florida to to P,s of ofing',\n",
       "   \"Florida man: 'City Pimp' accused of exposing genitals to Wendy's customers\"),\n",
       "  ('Florida Man, teacher charged with to, nails Florida to, of,er,ner. Did, to \"s an',\n",
       "   'Florida Man teacher charged with digging nails in to head of kindergartner. Did it to \"satisfy an ugly pleasure of mine\"'),\n",
       "  ('Florida Man, Att to Florida Girlss Son',\n",
       "   'Florida Man Attacks His Girlfriend’s Son Over Some Bad Yelp Reviews'),\n",
       "  ('Florida Fort to in, Man Downt-12',\n",
       "   'Fort Pierce, Florida Downtown- Late night joy ride 2021')],\n",
       " [('Florida Man, - an att, - for as Coral G in and',\n",
       "   'Florida Man - an attorney - arrested as Coral Gables and Aventura bank robbery suspect'),\n",
       "  ('Florida toiter police Florida Man, Florida to in to',\n",
       "   \"Jupiter police: Florida Man in bushes 'took off work to get drunk'\"),\n",
       "  ('Florida Man arrested Florida as to tointstone has,s in',\n",
       "   \"Florida man dressed as Fred Flintstone has 'footmobile' seized in funny traffic stop.\"),\n",
       "  ('Florida Man, Mistakenly Rece, a $980,000 Tax,und, ands',\n",
       "   'Florida Man Mistakenly Received a $980,000 Tax Refund, and Officials Say He Tried to Keep It'),\n",
       "  (\"Florida Man'ss capital city tos\",\n",
       "   \"Florida Man's capital city wants to ban snow within it's boundaries.\"),\n",
       "  ('Florida to Florida Dr Man',\n",
       "   'Police: Drunk driver runs over himself in Florida'),\n",
       "  ('Florida,ate to Sn to on Man Womanss La',\n",
       "   \"Manatees Snack on Florida Woman's Lawn Amid Flooding From Tropical Storms\"),\n",
       "  ('Florida Man, wearing a toon green and',\n",
       "   'Florida Man wearing a neon green and yellow motorcycle helmet attempts rob bank'),\n",
       "  ('Florida to Florida Man arrested who',\n",
       "   'Naked Florida man who made airport bomb threat gets probation'),\n",
       "  ('Florida Man Woman sidesw,, punch',\n",
       "   'Florida Woman sideswipes, punches, attacks another with scissors'),\n",
       "  ('Florida Man arrested to a toLand to, steals $2,000',\n",
       "   'Florida man breaks into DeLand church, steals $2,000 worth of items, deputies say'),\n",
       "  ('Florida11,-year- Florida Man,(,, for Florida stabbing at Man n,ist',\n",
       "   '13-year-old Florida Man(child) arrested in stabbing at Florida nudist resort where he lives with his parents'),\n",
       "  ('Florida115, old Man Woman Has, with Multiple,, in to Fort,s',\n",
       "   \"15 year old Florida Woman Has Sex with Multiple Guys in South Fort Myers High School Men's Bathroom\"),\n",
       "  ('Florida Man arrested prison workers were in in,',\n",
       "   'Florida man prison workers were KKK members, plotted to kill black inmate'),\n",
       "  (\"Florida Man' ins j after\",\n",
       "   'Florida Man avoids jail time after eating anonymous tip in court'),\n",
       "  ('Florida Man, with to, Florida Floridaatto to on his',\n",
       "   'Florida Man with spiderweb tattoo on his face attacks brother for changing his bed sheets.'),\n",
       "  ('Florida Man,estedested Florida U.S to Floridaot,s',\n",
       "   \"Florida Man Arrested From U.S. Capital Riot, Speaker Pelosi's Lectern\"),\n",
       "  ('Florida Man, finds be to on r to and to',\n",
       "   'Florida Man finds bees on rental car and tries to capture the in a box'),\n",
       "  ('Florida Man arrested Floridaas after',\n",
       "   'Florida man tasered after running naked through storm'),\n",
       "  ('Florida Florida best sex to (1', 'Free best sex chat!!! (girls 5326)'),\n",
       "  ('Florida Man arrested says toving dogs',\n",
       "   \"Florida man says starving dog didn't eat due to separation anxiety\"),\n",
       "  ('Florida Man in inils dru Florida to',\n",
       "   'Florida woman mails drugs to imprisoned daughter, joins her in jail'),\n",
       "  ('Florida Man arrested to Florida to',\n",
       "   'Florida man parks car in house to save car from hurricane'),\n",
       "  ('Florida Man, in of to On Dating,',\n",
       "   'Florida Man Lures Men On Dating Websites, Robs Them At Gunpoint'),\n",
       "  (\"Florida Man' Ss\", 'Florida Man Sends Penis Shaped Mailbox to Mother'),\n",
       "  ('Florida Man arrested for after Floridainating on girl toss Florida-lawss',\n",
       "   \"Florida man arrested after urinating on girlfriend's in-law's carpet during Thanksgiving gathering\"),\n",
       "  ('Florida Florida Florida H to for Black Man',\n",
       "   'Urgent Hunt for Black Bear That Mauled Florida Woman in Garage'),\n",
       "  ('Florida Man, Steals Womanss Identity And Us to Stolenit',\n",
       "   'Florida Man Steals Woman’s Identity And Uses Stolen Credit Cards To Buy Smoothies'),\n",
       "  ('Florida Man Woman bar, of to inside a, to, Papa inns and, sub a',\n",
       "   'Florida Woman barricades herself inside a St Augustine Papa Johns and gets subdued with a beanbag round.'),\n",
       "  ('Florida Man,estedested for Al to',\n",
       "   'Florida Man Arrested for Allegedly Riding the Back of a Manatee'),\n",
       "  ('Florida Man arrested Florida to shoots to-in-law who was to to',\n",
       "   'Florida man fatally shoots son-in-law who was trying to surprise him for his birthday'),\n",
       "  ('Florida Man arrested who ra, neighbor, then, to her work10',\n",
       "   'Florida man who raped neighbor, then offered to do her yard work gets 50-year sentence')],\n",
       " [('Florida Floridaville family Florida to, by n Florida',\n",
       "   'Jacksonville family alarmed by naked Floridaman in middle of the night'),\n",
       "  (\"Florida Man' tells students he\",\n",
       "   'Florida Man tells students how he could be a school shooter.'),\n",
       "  (\"Florida Man' with Florida\",\n",
       "   'Florida Man Who Faked Death Arrested in North Carolina'),\n",
       "  ('Florida Man arrested,als identity to toate, mask,, up with face and name pl',\n",
       "   'Florida man conceals identity behind Confederate flag mask, ends up with face and name plastered all over the Internet.'),\n",
       "  ('Florida Man arrested teacher for on',\n",
       "   'Florida man teacher arrested on charges of having sex with teen'),\n",
       "  ('Florida Man,estedested Out to in',\n",
       "   'Florida Man Arrested Outside Olive Garden After Eating Pasta Belligerently'),\n",
       "  ('Florida Man, Att to ‘Dancing,,os at,;',\n",
       "   'Florida Man Attacks ‘Dancing Flamingo’ at Busch Gardens; Animal Euthanized.'),\n",
       "  ('Florida Hern Florida deputies in Man arrested',\n",
       "   \"Hernando deputies arrest Florida man meth dealer named 'Disney'\"),\n",
       "  ('Florida Man arrested to',\n",
       "   'Florida man is first American to die in vaping accident'),\n",
       "  ('Florida Man Woman P, Star to to,up toakes toed A,',\n",
       "   'Florida Woman Porn Star Kayla Kupcakes Flashed A Local Judge During Sentencing for Disorderly Conduct'),\n",
       "  ('Florida Man arrested to to to',\n",
       "   'Florida man brings children to Virginia to experience snow in blizzard.'),\n",
       "  ('Florida Prom, stocked with boo,, weed,,ello shots and,pper,,, Man, ru greatest',\n",
       "   'Prom party stocked with booze, weed, Jello shots and stripper poles, Florida Man ruins greatest party hours before it began'),\n",
       "  ('Florida Man arrested Florida Truck to with n Florida in',\n",
       "   'Florida man: Truck driver with naked wife in cab sentenced for bus crash'),\n",
       "  (\"Florida Man' accident to sho in\",\n",
       "   'Florida Man accidentally shoots himself in foot while running away from police'),\n",
       "  ('Florida Man Woman to to bottle at in in to, up',\n",
       "   'Florida Woman throws water bottle at woman holding baby, drives up lawn to chase her in car'),\n",
       "  ('Florida Man,, to,, execution style after stealing $200,000 to ob a',\n",
       "   'Florida Man kills entire family execution style after stealing $200,000 to fund obsession with Bulgarian cam girl'),\n",
       "  ('Florida Man arrested', 'Florida man installs giant wooden dick mailbox'),\n",
       "  ('Florida Man, Ple,,ilty to to to Charg in Forities in',\n",
       "   'Florida Man Pleads Guilty to Felony Charges For Activities in Inauguration Day Rioting'),\n",
       "  (\"Florida Man' c Florida j\",\n",
       "   'Florida Man cops joked about using black community for target practice'),\n",
       "  ('Florida Man, sho Florida a arrested after',\n",
       "   'Florida Man shoots a man after heated political disagreement on Facebook'),\n",
       "  ('Florida Man, Florida Another, On Florida E touch Fetish Cas',\n",
       "   'Florida Man Met Another Guy On A Eunuch Fetish Site Then Castrated Him, Police Say'),\n",
       "  ('Florida Man, fores his brotherss,,, after he wal, Florida on his brother having sex with his, on his favorite',\n",
       "   'Florida Man bites his brother’s penis off after he walks in on his brother having sex with his cousin on his favorite Dragon Ball Z blanket.'),\n",
       "  ('Florida Man arrested for for to Florida a fakeig',\n",
       "   'Florida man arrested for wrestling a fake alligator at a shopping mall'),\n",
       "  ('Florida120-year, for Man arrested who stole110',\n",
       "   '20-year sentence for Florida man who stole 10 cartons of cigarettes'),\n",
       "  ('Florida,I LIKE G,EN THE, toY,1, P,,,s Active T-',\n",
       "   \"'I LIKE GREEN THE AND MAYBE 3 PEOPLE' Active T-Shirt by safi68\"),\n",
       "  ('Florida Man arrested', 'Florida man is a yoga nut.'),\n",
       "  ('Florida Man Man', 'Florida cop arrests Florida man over Tide'),\n",
       "  ('Florida Man in hurls Floridacialurs at',\n",
       "   'Florida woman hurls racial slurs at Black landscapers in viral video'),\n",
       "  ('Florida Man', 'Florida Woman Flavored Ice Cream'),\n",
       "  ('Florida toies Florida Man arrestedersonating',\n",
       "   'Deputies: Florida man impersonating officer handcuffed neighbor over loud music'),\n",
       "  ('Florida Man, changes his name to to tos and',\n",
       "   \"Florida Man changes his name to 'Kraftwerk' and pretends to be a robot\"),\n",
       "  ('Florida Man, Florida Florida flak to, to in to the after',\n",
       "   'Florida Man smokes flakka, takes woman to the hospital after beating her up and threatening her')],\n",
       " [(\"Florida Man' can a\", 'Florida Man can make a weapon out of anything.'),\n",
       "  ('Florida Man, Florida a,issan1,50Z,ings A T,,illaal',\n",
       "   'Florida Man in a Nissan 350Z Brings A Tampa Cadillac Dealership To Its Knees'),\n",
       "  ('Florida Man Woman and, rape victim found n Florida in bush of',\n",
       "   'Florida Woman and possible rape victim found naked in bushes behind House of Blues at Downtown Disney'),\n",
       "  ('Florida Man to tells to at least three people by a',\n",
       "   'Florida woman tells dispatch at least three people were attacked by a squirrel at senior center'),\n",
       "  ('Florida Man', 'FloridaWoman tosses pie'),\n",
       "  ('Florida Man arrested',\n",
       "   'Florida man running back happy he pooped his pants'),\n",
       "  ('Florida Man arrested who canst,, jumps, boat to climb a,, a the a of T, Bay',\n",
       "   \"Florida man who can't swim jumps off boat to climb a buoy in the middle of Tampa Bay. Predictable results ensue.\"),\n",
       "  ('Florida Man Florida121', 'Florida Man, 2100'),\n",
       "  ('Florida118 Man for',\n",
       "   '18 Florida Men en arrested for lewd behavior in parks'),\n",
       "  ('Florida Man, with dr Florida, steals',\n",
       "   'Florida Man gets drunk, steals Christmas decorations, puts them up in his yard'),\n",
       "  ('Florida Man arrested see torees to',\n",
       "   \"Florida man seeks threesome to 'ride out the hericane'\"),\n",
       "  ('Florida Man, qu to job as high school teacher to purs, fame',\n",
       "   'Florida Man quits job as high school teacher to pursue fame doing funny dances on TikTok'),\n",
       "  ('Florida Man arrested mistakes infigh for',\n",
       "   'Florida man mistakes firefighters for burglar, shoots at them through door'),\n",
       "  ('Florida Man, and police to arr to crying,1-',\n",
       "   'Florida Man and police officer arrests crying, 6-year-old girl.'),\n",
       "  ('Florida Man, forced to to to areas Florida state to',\n",
       "   'Florida Man forced to close walking areas in state park due to aggressive monkeys.'),\n",
       "  ('Florida Floridaards, for Man Florida in to',\n",
       "   'Guards wait for Florida inmate to pass diamond earrings he swallowed'),\n",
       "  ('Florida Man,,,,er of the,” Ad,, to,ing120,,,,, Not Charg',\n",
       "   'Florida Man “Officer of the Year” Admits to Raping 20 Male Immigrants, Not Charged as Sex Offender'),\n",
       "  ('Florida Man, and Man Woman b for',\n",
       "   'Florida Man and Florida Woman busted for DUI had sex in back of police car'),\n",
       "  ('Florida Man, stre Florida n Floridas fairway during V',\n",
       "   'Florida Man streaks naked across fairway during Valspar Championship game in Palm Harbor'),\n",
       "  (\"Florida Man' dies from coron after\",\n",
       "   'Florida Man dies from coronavirus after returning from cruise'),\n",
       "  (\"Florida floridaman:' Floridaeros infigh save in a\",\n",
       "   \"floridaman:'Hero' firefighters save man having a heart attack then finish his garden work\"),\n",
       "  ('Florida Man to Res,s After S, Woman Mast,, Videos and,ages,ing,ire to Kill, for1,0 Day',\n",
       "   'FloridaMan Resigns After Sending Woman Masturbating Videos and Messages Expressing Desire to Kill People for 30 Day Paid Suspension'),\n",
       "  ('Florida Veterin Florida ja to for122 years for sex',\n",
       "   'Veterinarian jailed for 22 years for sex abuse against dogs and child porn'),\n",
       "  (\"Florida Man'\", 'Florida Man leads law enforcement on canoe chase'),\n",
       "  ('Florida with', 'Who keeps all this in their car??'),\n",
       "  ('Florida Man arrested to fl, Florida at',\n",
       "   'Florida man attacks flamingo at Busch Gardens in front of parkgoers'),\n",
       "  ('Florida Man Womanestedested Florida Battering Florida172',\n",
       "   'Florida Woman Arrested For Battering A 72 Year Old Woman For Refusing Her Facebook Friend Request'),\n",
       "  ('Florida', 'wut'),\n",
       "  ('Florida Man, in to balance on hoverboard, sho',\n",
       "   'Florida Man loses balance on hoverboard, accidentally shoots cousin in the head.'),\n",
       "  ('Florida Man Woman plans to marry an',\n",
       "   'Florida Woman plans to marry an NES cartridge of Tetris'),\n",
       "  ('Florida Man arrested over',\n",
       "   'Florida man runs over brother in parking lot fight'),\n",
       "  ('Florida Man arrested for for fourth DUI tells cops',\n",
       "   'Florida man arrested for fourth DUI tells cops just how high he is, deputies say')],\n",
       " [('Florida Man arrested', 'Florida man robs then leaves wallet'),\n",
       "  ('Florida Man, to to sell soap as crack at a',\n",
       "   'Florida Man tries to sell soap as crack at a place called \"Majik Food Store\"'),\n",
       "  ('Florida Man, for for to,uts on-s',\n",
       "   \"Florida Man arrested for doing donuts on ex-girlfriend's lawn in Connecticut\"),\n",
       "  ('Florida Florida Seen on \", Florida Man',\n",
       "   'As Seen on \"Cops\": Florida Man inspired by show escapes after arrest'),\n",
       "  ('Florida19 in old florida boy sexual',\n",
       "   '9 year old florida boy could face sexual harassment charge for love note'),\n",
       "  ('Florida Man arrested performed a sex act on a,,,in the, of families” gathered on a,water beach Sunday,, to charged a',\n",
       "   'Florida man performed a sex act on a female companion “in the middle of families” gathered on a Clearwater beach Sunday afternoon, not charged with public indecency'),\n",
       "  ('Florida to Man arrested to to',\n",
       "   'South Florida man tries to trade live alligator for beer'),\n",
       "  ('Florida Man, calls1911 to ‘ in are',\n",
       "   'Florida Man calls 911 to say ‘Deputies are idiots’, gets arrested'),\n",
       "  ('Florida Man arrested,161, threat to to a, with his',\n",
       "   \"Florida man, 61, threatens to destroy a town with his 'army of turtles'\"),\n",
       "  ('Florida Florida r/Fun to. How to Become a Man(',\n",
       "   'From r/Funny. How to Become a Florida(wo)man in One Easy Step'),\n",
       "  ('Florida Man to soils to, refers to in as, Als',\n",
       "   \"Florida woman soils herself, refers to cop as 'God Almighty' during traffic stop\"),\n",
       "  ('Florida Man, starts group to,de Confederate State1',\n",
       "   'Florida Man starts group to parade Confederate flags down State Road 60 into Tampa'),\n",
       "  ('Florida Man arrested cut', 'Florida man cuts open truck to save kitten'),\n",
       "  ('Florida Man Woman ins Florida Man Woman with',\n",
       "   'Florida Woman assaults other Florida Woman with golf club in fight over spilled milk'),\n",
       "  ('Florida Man, Got Drunk,,, In, A,s,,,,,,,, And When,ed, Told,,, Go, Sleep. Fle,, And T, Hiding In',\n",
       "   \"Florida Man Got Drunk Then Broke Into A Man's Home, Made Himself Breakfast And When Questioned, Told Homeowner To Go To Sleep. Flees Home And Tries Hiding In Swamp\"),\n",
       "  ('Florida Man Woman sho Man',\n",
       "   'Florida Woman shoots Florida Man for taking her mango'),\n",
       "  ('Florida Man Woman to of (,, Is,, joking,,,lor,, Shores,ed,, and,icked out car a',\n",
       "   \"Florida Woman star of (and no I'm not joking) 'Floribama Shore' flashed breasts and kicked out car window say St. Pete police\"),\n",
       "  ('Florida Man, Charged Florida, Relief Fra,, Health',\n",
       "   'Florida Man Charged With COVID Relief Fraud, Health Care Fraud And Money Laundering'),\n",
       "  (\"Florida Man' charged with-\",\n",
       "   'Florida Man charged with head-butting police officer'),\n",
       "  ('Florida Man, Sought by Man to foring',\n",
       "   'Florida Man Sought by Florida Police for Jumping Drawbridge in Hyundai Santa Fe'),\n",
       "  ('Florida to to on the best \" flor',\n",
       "   'Australian reporting on the best \" florida man\" of the past months.'),\n",
       "  ('Florida W Florida Man arrested hoped bl to wig would dis, in him from',\n",
       "   'Wanted Florida man hoped blonde wig would disguise him from deputies as he biked away'),\n",
       "  ('Florida Girl to Florida n Florida',\n",
       "   'Girl dancing naked bouncing and swinging OMG'),\n",
       "  (\"Florida Man' Insists He\",\n",
       "   'Florida Man Insists He Only Drank At Stop Signs'),\n",
       "  ('Florida Man arrested Florida to',\n",
       "   'Florida man uses private parts to demonstrate plumbing concept'),\n",
       "  ('Florida Man', 'Oh Florida man'),\n",
       "  ('Florida Man, and tos Drag a',\n",
       "   'Florida Man and Friends Dragging a Live Shark Behind Their Boat'),\n",
       "  ('Florida Man, electuted while to to',\n",
       "   'Florida Man electrocuted while trying to remove pigeon from power line'),\n",
       "  ('Florida Man arrested of Florida beating dog to with',\n",
       "   'Florida man accused of beating dog to death with shovel; two families now grieving'),\n",
       "  ('Florida Man, school,unch lady, to girlss tray of food becauses11',\n",
       "   'Florida woman school lunch lady throws away girl’s tray of food because she’s 15 cents short'),\n",
       "  ('Florida Florida Florida', 'Found one in the wild!'),\n",
       "  ('Florida Florida arrested to to ro toate with',\n",
       "   'Melbourne man kills roommate with wooden elephant statue, police say')]]"
      ]
     },
     "execution_count": 10,
     "metadata": {},
     "output_type": "execute_result"
    }
   ],
   "source": [
    "pred[:5]"
   ]
  },
  {
   "cell_type": "code",
   "execution_count": 17,
   "id": "a6b0d124",
   "metadata": {},
   "outputs": [
    {
     "data": {
      "text/plain": [
       "'t'"
      ]
     },
     "execution_count": 17,
     "metadata": {},
     "output_type": "execute_result"
    }
   ],
   "source": [
    "model.generate()"
   ]
  },
  {
   "cell_type": "code",
   "execution_count": 26,
   "id": "05550d90",
   "metadata": {},
   "outputs": [
    {
     "data": {
      "text/plain": [
       "'man for'"
      ]
     },
     "execution_count": 26,
     "metadata": {},
     "output_type": "execute_result"
    }
   ],
   "source": [
    "\n",
    "model.generate(\"Florida man\")"
   ]
  },
  {
   "cell_type": "code",
   "execution_count": null,
   "id": "ef8c6d32",
   "metadata": {},
   "outputs": [],
   "source": []
  }
 ],
 "metadata": {
  "kernelspec": {
   "display_name": "Python 3 (ipykernel)",
   "language": "python",
   "name": "python3"
  },
  "language_info": {
   "codemirror_mode": {
    "name": "ipython",
    "version": 3
   },
   "file_extension": ".py",
   "mimetype": "text/x-python",
   "name": "python",
   "nbconvert_exporter": "python",
   "pygments_lexer": "ipython3",
   "version": "3.11.8"
  }
 },
 "nbformat": 4,
 "nbformat_minor": 5
}
