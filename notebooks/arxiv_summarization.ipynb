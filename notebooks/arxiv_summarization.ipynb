{
  "cells": [
    {
      "cell_type": "code",
      "execution_count": 1,
      "id": "48d6bd46-1b31-44bc-b35f-06d1fbaf9caa",
      "metadata": {},
      "outputs": [],
      "source": [
        "# https://www.kaggle.com/datasets/spsayakpaul/arxiv-paper-abstracts/data\n",
        "# predict category from title/abstract"
      ]
    },
    {
      "cell_type": "code",
      "execution_count": 2,
      "id": "ab12b65b",
      "metadata": {},
      "outputs": [
        {
          "name": "stderr",
          "output_type": "stream",
          "text": [
            "/Users/edwinonuonga/env/llm-arm64/lib/python3.11/site-packages/tqdm/auto.py:21: TqdmWarning: IProgress not found. Please update jupyter and ipywidgets. See https://ipywidgets.readthedocs.io/en/stable/user_install.html\n",
            "  from .autonotebook import tqdm as notebook_tqdm\n"
          ]
        }
      ],
      "source": [
        "import typing as t\n",
        "from ast import literal_eval\n",
        "\n",
        "from transformer.models.seq2seq import Seq2SeqLM\n",
        "from transformer.dataloaders.seq2seq import Seq2SeqDataModule\n",
        "from transformer.params.transformer import TransformerParams\n",
        "\n",
        "import torch\n",
        "import numpy as np\n",
        "import pandas as pd\n",
        "from lightning import Trainer\n",
        "from lightning.pytorch.callbacks.early_stopping import EarlyStopping\n",
        "from transformers import LlamaTokenizer"
      ]
    },
    {
      "cell_type": "code",
      "execution_count": 3,
      "id": "7e78e563",
      "metadata": {},
      "outputs": [
        {
          "data": {
            "text/html": [
              "<div>\n",
              "<style scoped>\n",
              "    .dataframe tbody tr th:only-of-type {\n",
              "        vertical-align: middle;\n",
              "    }\n",
              "\n",
              "    .dataframe tbody tr th {\n",
              "        vertical-align: top;\n",
              "    }\n",
              "\n",
              "    .dataframe thead th {\n",
              "        text-align: right;\n",
              "    }\n",
              "</style>\n",
              "<table border=\"1\" class=\"dataframe\">\n",
              "  <thead>\n",
              "    <tr style=\"text-align: right;\">\n",
              "      <th></th>\n",
              "      <th>terms</th>\n",
              "      <th>titles</th>\n",
              "      <th>abstracts</th>\n",
              "    </tr>\n",
              "  </thead>\n",
              "  <tbody>\n",
              "    <tr>\n",
              "      <th>56176</th>\n",
              "      <td>['cs.CV', 'cs.IR']</td>\n",
              "      <td>Mining Spatio-temporal Data on Industrializati...</td>\n",
              "      <td>Despite the growing availability of big data i...</td>\n",
              "    </tr>\n",
              "    <tr>\n",
              "      <th>56177</th>\n",
              "      <td>['cs.LG', 'cs.AI', 'cs.CL', 'I.2.6; I.2.7']</td>\n",
              "      <td>Wav2Letter: an End-to-End ConvNet-based Speech...</td>\n",
              "      <td>This paper presents a simple end-to-end model ...</td>\n",
              "    </tr>\n",
              "    <tr>\n",
              "      <th>56178</th>\n",
              "      <td>['cs.LG']</td>\n",
              "      <td>Deep Reinforcement Learning with Double Q-lear...</td>\n",
              "      <td>The popular Q-learning algorithm is known to o...</td>\n",
              "    </tr>\n",
              "    <tr>\n",
              "      <th>56179</th>\n",
              "      <td>['stat.ML', 'cs.LG', 'math.OC']</td>\n",
              "      <td>Generalized Low Rank Models</td>\n",
              "      <td>Principal components analysis (PCA) is a well-...</td>\n",
              "    </tr>\n",
              "    <tr>\n",
              "      <th>56180</th>\n",
              "      <td>['cs.LG', 'cs.AI', 'stat.ML']</td>\n",
              "      <td>Chi-square Tests Driven Method for Learning th...</td>\n",
              "      <td>SDYNA is a general framework designed to addre...</td>\n",
              "    </tr>\n",
              "  </tbody>\n",
              "</table>\n",
              "</div>"
            ],
            "text/plain": [
              "                                             terms  \\\n",
              "56176                           ['cs.CV', 'cs.IR']   \n",
              "56177  ['cs.LG', 'cs.AI', 'cs.CL', 'I.2.6; I.2.7']   \n",
              "56178                                    ['cs.LG']   \n",
              "56179              ['stat.ML', 'cs.LG', 'math.OC']   \n",
              "56180                ['cs.LG', 'cs.AI', 'stat.ML']   \n",
              "\n",
              "                                                  titles  \\\n",
              "56176  Mining Spatio-temporal Data on Industrializati...   \n",
              "56177  Wav2Letter: an End-to-End ConvNet-based Speech...   \n",
              "56178  Deep Reinforcement Learning with Double Q-lear...   \n",
              "56179                        Generalized Low Rank Models   \n",
              "56180  Chi-square Tests Driven Method for Learning th...   \n",
              "\n",
              "                                               abstracts  \n",
              "56176  Despite the growing availability of big data i...  \n",
              "56177  This paper presents a simple end-to-end model ...  \n",
              "56178  The popular Q-learning algorithm is known to o...  \n",
              "56179  Principal components analysis (PCA) is a well-...  \n",
              "56180  SDYNA is a general framework designed to addre...  "
            ]
          },
          "execution_count": 3,
          "metadata": {},
          "output_type": "execute_result"
        }
      ],
      "source": [
        "# load and preview data\n",
        "data = pd.read_csv(\"data/arxiv.csv\")\n",
        "data.titles = data.titles.str.replace(\"\\n\", \" \")\n",
        "data.abstracts = data.abstracts.str.replace(\"\\n\", \" \")\n",
        "data.tail()"
      ]
    },
    {
      "cell_type": "code",
      "execution_count": 4,
      "id": "d6594f87",
      "metadata": {},
      "outputs": [],
      "source": [
        "# create data module\n",
        "class ArxivSummarizationDataModule(Seq2SeqDataModule):\n",
        "    def setup(self: t.Self, stage: str) -> None:\n",
        "        self.data = data[[\"abstracts\", \"titles\"]].to_numpy()\n",
        "        super().setup(stage=stage)"
      ]
    },
    {
      "cell_type": "code",
      "execution_count": 5,
      "id": "92febe62",
      "metadata": {},
      "outputs": [
        {
          "data": {
            "text/plain": [
              "1"
            ]
          },
          "execution_count": 5,
          "metadata": {},
          "output_type": "execute_result"
        }
      ],
      "source": [
        "# initialize pretrained tokenizer\n",
        "# - llama does not add an EOS token by default, so override this\n",
        "# - llama also does not use a padding token, so this needs to be added\n",
        "tokenizer = LlamaTokenizer.from_pretrained(\n",
        "    \"huggyllama/llama-7b\", add_eos_token=True, legacy=False\n",
        ")\n",
        "tokenizer.add_special_tokens({\"pad_token\": \"<pad>\"})"
      ]
    },
    {
      "cell_type": "code",
      "execution_count": 6,
      "id": "374b7145",
      "metadata": {},
      "outputs": [],
      "source": [
        "# initialize the transformer - note that for this seq2seq task, it is appropriate to use the same tokenizer for input and output\n",
        "context_length = 512\n",
        "model = Seq2SeqLM(\n",
        "    params=TransformerParams(context_length=context_length, model_dim=64),\n",
        "    input_tokenizer=tokenizer,\n",
        "    output_tokenizer=tokenizer,\n",
        ")"
      ]
    },
    {
      "cell_type": "code",
      "execution_count": 7,
      "id": "b20b6f8a",
      "metadata": {},
      "outputs": [],
      "source": [
        "# tokenize & encode data and prepare train/test splits\n",
        "datamodule = ArxivSummarizationDataModule(\n",
        "    input_tokenizer=tokenizer,\n",
        "    output_tokenizer=tokenizer,\n",
        "    context_length=context_length,\n",
        "    batch_size=8,\n",
        "    val_size=0.2,\n",
        "    test_size=0.1,\n",
        "    num_workers=9,\n",
        "    persistent_workers=True,\n",
        "    limit=None,\n",
        "    random_state=1,\n",
        ")"
      ]
    },
    {
      "cell_type": "code",
      "execution_count": 8,
      "id": "4fc4cb8f",
      "metadata": {},
      "outputs": [
        {
          "name": "stderr",
          "output_type": "stream",
          "text": [
            "GPU available: True (mps), used: True\n",
            "TPU available: False, using: 0 TPU cores\n",
            "HPU available: False, using: 0 HPUs\n",
            "\n",
            "  | Name  | Type       | Params | Mode \n",
            "---------------------------------------------\n",
            "0 | model | ModuleDict | 7.6 M  | train\n",
            "---------------------------------------------\n",
            "7.6 M     Trainable params\n",
            "0         Non-trainable params\n",
            "7.6 M     Total params\n",
            "30.268    Total estimated model params size (MB)\n"
          ]
        },
        {
          "name": "stdout",
          "output_type": "stream",
          "text": [
            "                                                                           \r"
          ]
        },
        {
          "name": "stderr",
          "output_type": "stream",
          "text": [
            "/Users/edwinonuonga/Desktop/Development/Python/transformer-from-scratch/transformer/models/seq2seq.py:94: UserWarning: MPS: nonzero op is supported natively starting from macOS 13.0. Falling back on CPU. This may have performance implications. (Triggered internally at /Users/runner/work/pytorch/pytorch/pytorch/aten/src/ATen/native/mps/operations/Indexing.mm:334.)\n",
            "  preds = preds.flatten(end_dim=1)[output_masks]\n"
          ]
        },
        {
          "name": "stdout",
          "output_type": "stream",
          "text": [
            "Epoch 4: 100%|██████████| 4916/4916 [39:22<00:00,  2.08it/s, v_num=16, val_loss=9.020, train_loss=9.200]"
          ]
        },
        {
          "name": "stderr",
          "output_type": "stream",
          "text": [
            "`Trainer.fit` stopped: `max_epochs=5` reached.\n"
          ]
        },
        {
          "name": "stdout",
          "output_type": "stream",
          "text": [
            "Epoch 4: 100%|██████████| 4916/4916 [39:23<00:00,  2.08it/s, v_num=16, val_loss=9.020, train_loss=9.200]\n",
            "CPU times: user 3h 5min 59s, sys: 3h 16min 39s, total: 6h 22min 38s\n",
            "Wall time: 3h 19min 37s\n"
          ]
        }
      ],
      "source": [
        "%%time\n",
        "# train the model\n",
        "trainer = Trainer(\n",
        "    max_epochs=5,\n",
        "    callbacks=EarlyStopping(monitor=\"val_loss\", mode=\"min\", patience=5),\n",
        "    accelerator=\"gpu\",\n",
        ")\n",
        "trainer.fit(model=model, datamodule=datamodule)"
      ]
    },
    {
      "cell_type": "code",
      "execution_count": null,
      "id": "fa4cad49",
      "metadata": {},
      "outputs": [],
      "source": [
        "# calculate test metrics\n",
        "trainer.test(model=model, datamodule=datamodule)"
      ]
    },
    {
      "cell_type": "code",
      "execution_count": null,
      "id": "d4b525af",
      "metadata": {},
      "outputs": [],
      "source": [
        "# view first batch of test set predictions\n",
        "pred = trainer.predict(model=model, datamodule=datamodule)\n",
        "pred[:10]"
      ]
    },
    {
      "cell_type": "code",
      "execution_count": null,
      "id": "da5b7de2",
      "metadata": {},
      "outputs": [],
      "source": [
        "# calculate accuracy\n",
        "torch.tensor([x[1] == x[2] for batch in pred for x in batch]).float().mean()"
      ]
    },
    {
      "cell_type": "code",
      "execution_count": null,
      "id": "3b34a2a8",
      "metadata": {},
      "outputs": [],
      "source": []
    }
  ],
  "metadata": {
    "kernelspec": {
      "display_name": "Python 3 (ipykernel)",
      "language": "python",
      "name": "python3"
    },
    "language_info": {
      "codemirror_mode": {
        "name": "ipython",
        "version": 3
      },
      "file_extension": ".py",
      "mimetype": "text/x-python",
      "name": "python",
      "nbconvert_exporter": "python",
      "pygments_lexer": "ipython3",
      "version": "3.11.8"
    }
  },
  "nbformat": 4,
  "nbformat_minor": 5
}
