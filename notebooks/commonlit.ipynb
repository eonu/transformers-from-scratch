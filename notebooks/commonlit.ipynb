{
 "cells": [
  {
   "cell_type": "code",
   "execution_count": null,
   "id": "c5e4b774-8bee-4e3b-9de7-70d4675dced7",
   "metadata": {},
   "outputs": [],
   "source": [
    "# https://www.kaggle.com/competitions/commonlitreadabilityprize\n",
    "# predict ease of readability of passage"
   ]
  },
  {
   "cell_type": "code",
   "execution_count": null,
   "id": "d3b6f9f6-b5e4-43c1-93ab-0f3a25ac7ab7",
   "metadata": {},
   "outputs": [],
   "source": []
  }
 ],
 "metadata": {
  "kernelspec": {
   "display_name": "Python 3 (ipykernel)",
   "language": "python",
   "name": "python3"
  },
  "language_info": {
   "codemirror_mode": {
    "name": "ipython",
    "version": 3
   },
   "file_extension": ".py",
   "mimetype": "text/x-python",
   "name": "python",
   "nbconvert_exporter": "python",
   "pygments_lexer": "ipython3",
   "version": "3.11.8"
  }
 },
 "nbformat": 4,
 "nbformat_minor": 5
}
