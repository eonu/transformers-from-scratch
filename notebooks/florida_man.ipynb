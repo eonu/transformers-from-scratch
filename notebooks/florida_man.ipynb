{
 "cells": [
  {
   "cell_type": "code",
   "execution_count": null,
   "id": "d3c4c691-9f4b-4975-9e03-c8a42c90df33",
   "metadata": {},
   "outputs": [],
   "source": [
    "# https://www.kaggle.com/code/bcruise/adventures-of-florida-man/input"
   ]
  },
  {
   "cell_type": "code",
   "execution_count": null,
   "id": "d67bc8b9",
   "metadata": {},
   "outputs": [],
   "source": [
    "from __future__ import annotations\n",
    "\n",
    "from transformer.models.causal import CausalLM\n",
    "from transformer.dataloaders.teacher_forcing import TeacherForcingDataModule\n",
    "from transformer.params import TransformerParams\n",
    "\n",
    "from transformers import LlamaTokenizerFast\n",
    "\n",
    "import pandas as pd\n",
    "from lightning import Trainer\n",
    "from lightning.pytorch.callbacks.early_stopping import EarlyStopping"
   ]
  },
  {
   "cell_type": "code",
   "execution_count": null,
   "id": "6d506536",
   "metadata": {},
   "outputs": [],
   "source": [
    "# load and analyse data\n",
    "titles = pd.read_csv(\"data/florida_man.csv\").title"
   ]
  },
  {
   "cell_type": "code",
   "execution_count": null,
   "id": "df59e6d0",
   "metadata": {},
   "outputs": [],
   "source": [
    "class FloridaManDataModule(TeacherForcingDataModule):\n",
    "    def setup(self: FloridaManDataModule, stage: str) -> None:\n",
    "        # read titles with 200 or fewer characters from CSV\n",
    "        self.data = titles.loc[titles.str.len() <= 200].tolist()\n",
    "        super().setup(stage=stage)"
   ]
  },
  {
   "cell_type": "code",
   "execution_count": null,
   "id": "89332135",
   "metadata": {},
   "outputs": [],
   "source": [
    "# initialize pretrained tokenizer for causal language modelling\n",
    "# - llama does not add an EOS token by default, so override this\n",
    "# - llama also does not use a padding token, so this needs to be added\n",
    "tokenizer = LlamaTokenizerFast.from_pretrained(\n",
    "    \"huggyllama/llama-7b\", add_eos_token=True, from_slow=True\n",
    ")\n",
    "tokenizer.add_special_tokens({\"pad_token\": \"<pad>\"})\n",
    "\n",
    "# initialize the transformer\n",
    "context_length = 64\n",
    "model = CausalLM(\n",
    "    config=TransformerParams(context_length=context_length),\n",
    "    tokenizer=tokenizer,\n",
    ")\n",
    "\n",
    "# tokenize & encode data and prepare train/test splits\n",
    "datamodule = FloridaManDataModule(\n",
    "    tokenizer=tokenizer,\n",
    "    context_length=context_length,\n",
    "    batch_size=32,\n",
    "    val_size=0.2,\n",
    "    test_size=0.1,\n",
    "    num_workers=9,\n",
    "    persistent_workers=True,\n",
    "    limit=None,\n",
    "    random_state=1,\n",
    ")\n",
    "\n",
    "# train the model\n",
    "trainer = Trainer(\n",
    "    max_epochs=1000,\n",
    "    callbacks=EarlyStopping(monitor=\"val_loss\", mode=\"min\", patience=5),\n",
    "    accelerator=\"cpu\",\n",
    ")\n",
    "trainer.fit(model=model, datamodule=datamodule)\n",
    "\n",
    "# calculate test metrics\n",
    "trainer.test(model=model, datamodule=datamodule)\n",
    "\n",
    "# view first batch of test set predictions\n",
    "# note: these are still produced using teacher-forcing, so not purely generated\n",
    "pred = trainer.predict(model=model, datamodule=datamodule)\n",
    "\n",
    "output = model.generate(\"Florida man\")"
   ]
  }
 ],
 "metadata": {
  "kernelspec": {
   "display_name": "Python 3 (ipykernel)",
   "language": "python",
   "name": "python3"
  },
  "language_info": {
   "codemirror_mode": {
    "name": "ipython",
    "version": 3
   },
   "file_extension": ".py",
   "mimetype": "text/x-python",
   "name": "python",
   "nbconvert_exporter": "python",
   "pygments_lexer": "ipython3",
   "version": "3.11.8"
  }
 },
 "nbformat": 4,
 "nbformat_minor": 5
}
